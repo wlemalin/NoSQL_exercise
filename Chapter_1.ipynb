{
 "cells": [
  {
   "cell_type": "code",
   "execution_count": 1,
   "id": "7f174b01-276b-4afc-b11d-c0448a40b370",
   "metadata": {},
   "outputs": [],
   "source": [
    "#!pip install psycopg2\n",
    "import mysql.connector\n",
    "import numpy as np\n",
    "import psycopg2\n",
    "import sqlite3\n",
    "\n",
    "data_dir = 'C:/Users/werne/Downloads/NSQL/'"
   ]
  },
  {
   "cell_type": "markdown",
   "id": "61d74c6b-a2f4-4029-9595-ed17b302ee22",
   "metadata": {},
   "source": [
    "# Chapter 1 exercise\n",
    "\n",
    "## SQLITE"
   ]
  },
  {
   "cell_type": "markdown",
   "id": "9be4a69c-cc36-480d-abd9-17ccd36f6a11",
   "metadata": {},
   "source": [
    "#### 1 : Read all the data from bc.csv, how many rows is there ? Columns ? "
   ]
  },
  {
   "cell_type": "code",
   "execution_count": 1,
   "id": "c93603a0-7c08-443f-a5f8-2e3c354bbe1d",
   "metadata": {},
   "outputs": [
    {
     "name": "stdout",
     "output_type": "stream",
     "text": [
      "nrow: 569 \n",
      "ncol: 33\n"
     ]
    }
   ],
   "source": [
    "conn = sqlite3.connect(data_dir+'bc.db')\n",
    "c = conn.cursor()\n",
    "\n",
    "c.execute(\"pragma table_info(bc);\")\n",
    "ncol = c.fetchall()\n",
    "\n",
    "c.execute(\"SELECT COUNT(*) AS row_count FROM bc;\")\n",
    "nrow=c.fetchone()\n",
    "\n",
    "print(\"nrow:\", nrow[0], \"\\nncol:\", len(ncol))\n",
    "\n",
    "conn.close()"
   ]
  },
  {
   "cell_type": "markdown",
   "id": "c09c6bab-3458-4099-a3d5-3dac884035b0",
   "metadata": {},
   "source": [
    "#### 2 : Insert the bc.csv in the sqlite format."
   ]
  },
  {
   "cell_type": "markdown",
   "id": "51840331-9171-47e1-b494-dec6219a9221",
   "metadata": {},
   "source": [
    "Done from DB-Browser SQLite"
   ]
  },
  {
   "cell_type": "markdown",
   "id": "11007748-5ac5-4b9f-a5b3-e9c84eb9ace2",
   "metadata": {},
   "source": [
    "#### 3 : In the same db create a new table called tomatch with two variables id_ and rdm_float. "
   ]
  },
  {
   "cell_type": "code",
   "execution_count": 2,
   "id": "64fc6b2c-40ab-452f-9269-b989aa698af7",
   "metadata": {},
   "outputs": [
    {
     "data": {
      "text/plain": [
       "<sqlite3.Cursor at 0x7fd725b3f4c0>"
      ]
     },
     "execution_count": 2,
     "metadata": {},
     "output_type": "execute_result"
    }
   ],
   "source": [
    "conn = sqlite3.connect('/home/werner/Téléchargements/mydatabase.db')\n",
    "c = conn.cursor()\n",
    "\n",
    "c.execute(\"DROP TABLE IF EXISTS tomatch;\")\n",
    "\n",
    "c.execute(\"\"\"\n",
    "    CREATE TABLE tomatch (\n",
    "        id_ INTEGER,\n",
    "        rdm_float REAL);\n",
    "\"\"\")"
   ]
  },
  {
   "cell_type": "markdown",
   "id": "414ef0c7-401c-414c-a52e-0a00feda19fa",
   "metadata": {},
   "source": [
    "#### 4 : In the table tomatch insert observations where the id_ starts from 50k, ends at 10000000 and is only even numbers. rdm_float is a random float for each observation."
   ]
  },
  {
   "cell_type": "code",
   "execution_count": 3,
   "id": "da58cecc-739a-460d-9472-c4327cfabad4",
   "metadata": {},
   "outputs": [
    {
     "name": "stdout",
     "output_type": "stream",
     "text": [
      "[(50000, 0.2787700069315615), (50002, 0.10952689337426691), (50004, 0.012772532612756904), (50006, 0.01611287562926933), (50008, 0.20033476399007155), (50010, 0.11889506556783913), (50012, 0.7154868614034331), (50014, 0.5277685553107473), (50016, 0.952092012050516), (50018, 0.42848353730169086)]\n"
     ]
    }
   ],
   "source": [
    "ids = [int(id) for id in np.arange(50000, 10000000, 2)]\n",
    "random_floats = np.random.random(size=len(ids))\n",
    "data_to_insert = list(zip(ids, random_floats))\n",
    "\n",
    "conn = sqlite3.connect(data_dir+'mydatabase.db')\n",
    "c = conn.cursor()\n",
    "\n",
    "c.executemany(\"INSERT INTO tomatch (id_, rdm_float) VALUES (?, ?);\", data_to_insert)\n",
    "conn.commit()\n",
    "\n",
    "c.execute(\"SELECT * FROM tomatch LIMIT 10;\")\n",
    "print(c.fetchall())\n",
    "conn.close()"
   ]
  },
  {
   "cell_type": "markdown",
   "id": "e7ec71a5-0a88-4f69-91cd-06de72a2092e",
   "metadata": {},
   "source": [
    "#### 5 : Do an Inner join between the two tables and compute the different aggregate functions on a column of your choice."
   ]
  },
  {
   "cell_type": "code",
   "execution_count": 5,
   "id": "834366ce-57a6-489b-9a86-e3a35da2e53c",
   "metadata": {},
   "outputs": [
    {
     "name": "stdout",
     "output_type": "stream",
     "text": [
      "Average area_mean: 639.783950617284 Max Area Mean: 2250.0\n"
     ]
    }
   ],
   "source": [
    "conn = sqlite3.connect(data_dir+'mydatabase.db')\n",
    "c = conn.cursor()\n",
    "\n",
    "c.execute(\"\"\"\n",
    "    SELECT AVG(bc.area_mean) AS total_area, MAX(bc.area_mean) AS max_area\n",
    "    FROM bc\n",
    "    JOIN tomatch ON bc.id = tomatch.id_;\n",
    "\"\"\")\n",
    "aggregate_results = c.fetchone()\n",
    "conn.close()\n",
    "\n",
    "print(\"Average area_mean:\", aggregate_results[0], \"Max Area Mean:\", aggregate_results[1])"
   ]
  },
  {
   "cell_type": "markdown",
   "id": "90eda0a9-bb18-4662-bcbb-dacc98da26fb",
   "metadata": {},
   "source": [
    "#### 6 : How many observations have a radius_mean greater than 15 ? From them how many have a texture_mean greater than 20 ?"
   ]
  },
  {
   "cell_type": "code",
   "execution_count": 6,
   "id": "34bb516e-d76e-43cd-8f92-a5618b1fc108",
   "metadata": {},
   "outputs": [
    {
     "name": "stdout",
     "output_type": "stream",
     "text": [
      "radius > 15 : 173 \n",
      "radius > 15 & texture > 20 : 106\n"
     ]
    }
   ],
   "source": [
    "conn = sqlite3.connect(data_dir+'mydatabase.db')\n",
    "c = conn.cursor()\n",
    "\n",
    "c.execute(\"\"\"\n",
    "    SELECT COUNT(*)\n",
    "    FROM bc\n",
    "    WHERE radius_mean > 15;\n",
    "\"\"\")\n",
    "radius15p = c.fetchone()\n",
    "\n",
    "c.execute(\"\"\"\n",
    "    SELECT COUNT(*)\n",
    "    FROM bc\n",
    "    WHERE radius_mean > 15 and texture_mean > 20;\n",
    "\"\"\")\n",
    "rad15p_tex20p = c.fetchone()\n",
    "\n",
    "print(\"radius > 15 :\", radius15p[0],\"\\nradius > 15 & texture > 20 :\", rad15p_tex20p[0])\n",
    "conn.close()"
   ]
  },
  {
   "cell_type": "markdown",
   "id": "9b2fece7-3a81-4765-91fd-05d5e104e06a",
   "metadata": {},
   "source": [
    "#### 7 : For each category in diagnosis do the mean of a variable and round it to get only 2 numbers after the comma. Compute the difference between the mean of both groups"
   ]
  },
  {
   "cell_type": "code",
   "execution_count": 12,
   "id": "4bbd8057-fc7c-4bd1-aebf-ea40b807e0c1",
   "metadata": {},
   "outputs": [
    {
     "name": "stdout",
     "output_type": "stream",
     "text": [
      "Difference between the means of both groups : 37.29\n"
     ]
    }
   ],
   "source": [
    "conn = sqlite3.connect(data_dir+'mydatabase.db')\n",
    "c = conn.cursor()\n",
    "\n",
    "c.execute(\"\"\"\n",
    "    SELECT diagnosis, ROUND(AVG(perimeter_mean), 2)\n",
    "    FROM bc\n",
    "    GROUP BY diagnosis;\n",
    "\"\"\")\n",
    "mean_results = c.fetchall()\n",
    "mean_results\n",
    "\n",
    "difference = abs(mean_results[0][1] - mean_results[1][1])\n",
    "\n",
    "print(f\"Difference between the means of both groups : {difference:.2f}\")"
   ]
  },
  {
   "cell_type": "markdown",
   "id": "611fc41d-e1eb-4c43-b581-bbca05221e83",
   "metadata": {},
   "source": [
    "#### 8 : Change the name of the column \"diagnosis\" to \"label\""
   ]
  },
  {
   "cell_type": "code",
   "execution_count": 13,
   "id": "f3bfaaf3-5419-43de-a053-8ed1f815cc42",
   "metadata": {},
   "outputs": [
    {
     "data": {
      "text/plain": [
       "<sqlite3.Cursor at 0x7fd6d511ad40>"
      ]
     },
     "execution_count": 13,
     "metadata": {},
     "output_type": "execute_result"
    }
   ],
   "source": [
    "conn = sqlite3.connect(data_dir+'mydatabase.db')\n",
    "c = conn.cursor()\n",
    "\n",
    "c.execute(\"\"\"\n",
    "CREATE TABLE bc_new AS SELECT diagnosis AS label, * FROM bc;\n",
    "\"\"\")\n",
    "c.execute(\"\"\"\n",
    "DROP TABLE bc;\n",
    "\"\"\")\n",
    "c.execute(\"\"\"\n",
    "ALTER TABLE bc_new RENAME TO bc;\n",
    "\"\"\")\n",
    "c.execute(\"\"\"\n",
    "ALTER TABLE bc\n",
    "DROP COLUMN diagnosis;\n",
    "\"\"\")"
   ]
  },
  {
   "cell_type": "markdown",
   "id": "44aaf882-b8a4-4a37-9ea5-a6701917e802",
   "metadata": {},
   "source": [
    "#### 9 : Add a column named \"day\" of type DATE."
   ]
  },
  {
   "cell_type": "code",
   "execution_count": 16,
   "id": "36bd6771-9d3b-4e11-8662-16a90bfd0795",
   "metadata": {},
   "outputs": [
    {
     "data": {
      "text/plain": [
       "<sqlite3.Cursor at 0x7fd6d511abc0>"
      ]
     },
     "execution_count": 16,
     "metadata": {},
     "output_type": "execute_result"
    }
   ],
   "source": [
    "conn = sqlite3.connect(data_dir+'mydatabase.db')\n",
    "c = conn.cursor()\n",
    "\n",
    "c.execute(\"\"\"\n",
    "ALTER TABLE bc\n",
    "ADD day date;\n",
    "\"\"\")"
   ]
  },
  {
   "cell_type": "markdown",
   "id": "6cb13847-cc5a-45cc-b596-e702d6ec7777",
   "metadata": {},
   "source": [
    "#### 10 : Change the type of the column \"area_mean\" to int (hint, not possible on sqlite, create a new column)"
   ]
  },
  {
   "cell_type": "code",
   "execution_count": 19,
   "id": "08efa8de-1750-4e88-9184-5949e46af7a1",
   "metadata": {},
   "outputs": [],
   "source": [
    "conn = sqlite3.connect(data_dir+'mydatabase.db')\n",
    "c = conn.cursor()\n",
    "\n",
    "c.execute(\"\"\"\n",
    "ALTER TABLE bc\n",
    "ADD COLUMN area_mean_int INTEGER;\n",
    "\"\"\")\n",
    "c.execute(\"\"\"\n",
    "UPDATE bc\n",
    "SET area_mean_int = CAST(ROUND(area_mean) AS INTEGER);\n",
    "\"\"\")\n",
    "conn.commit()"
   ]
  },
  {
   "cell_type": "markdown",
   "id": "82078cac-9187-4806-8115-dc92816a9cb0",
   "metadata": {},
   "source": [
    "#### 11 : create a new table called tomatch2 exactly the same way as tomatch except you increment id_ by 10."
   ]
  },
  {
   "cell_type": "code",
   "execution_count": 20,
   "id": "19e469fe-2c2c-4bba-8e08-b233ce7298ef",
   "metadata": {},
   "outputs": [
    {
     "name": "stdout",
     "output_type": "stream",
     "text": [
      "[(50000, 0.9869485738002751), (50010, 0.7149528371732383), (50020, 0.015280501392798018), (50030, 0.04970064260280349), (50040, 0.04236412628881647), (50050, 0.8486819720537664), (50060, 0.5647073042374567), (50070, 0.881317422843903), (50080, 0.6474744871610636), (50090, 0.519967676215781)]\n"
     ]
    }
   ],
   "source": [
    "conn = sqlite3.connect(data_dir+'mydatabase.db')\n",
    "c = conn.cursor()\n",
    "\n",
    "c.execute(\"DROP TABLE IF EXISTS tomatch2;\")\n",
    "\n",
    "c.execute(\"\"\"\n",
    "    CREATE TABLE tomatch2 (\n",
    "        id_ INTEGER,\n",
    "        rdm_float REAL);\n",
    "\"\"\")\n",
    "\n",
    "ids = np.arange(50000, 10000001, 10)\n",
    "random_floats = np.random.random(size=len(ids))\n",
    "\n",
    "ids = [int(id) for id in ids]\n",
    "\n",
    "data_to_insert = list(zip(ids, random_floats))\n",
    "\n",
    "c.executemany(\"INSERT INTO tomatch2 (id_, rdm_float) VALUES (?, ?);\", data_to_insert)\n",
    "conn.commit()\n",
    "\n",
    "c.execute(\"SELECT * FROM tomatch2 LIMIT 10;\")\n",
    "print(c.fetchall())\n",
    "\n",
    "conn.close()"
   ]
  },
  {
   "cell_type": "markdown",
   "id": "5dc05a8b-d547-44f8-9a3d-68fd6ff7f682",
   "metadata": {},
   "source": [
    "#### 12 : Do an inner join of bc, tomatch and tomatch2 where the radius_mean is greater than 15, and the rdm_float is greater than 0.50 in tomatch AND tomatch2. "
   ]
  },
  {
   "cell_type": "code",
   "execution_count": 25,
   "id": "60473812-a68a-49c6-b4b8-5ab095403356",
   "metadata": {},
   "outputs": [
    {
     "data": {
      "text/plain": [
       "('M',\n",
       " 879830,\n",
       " 17.01,\n",
       " 20.26,\n",
       " 109.7,\n",
       " 904.3,\n",
       " 0.08772,\n",
       " 0.07304,\n",
       " 0.0695,\n",
       " 0.0539,\n",
       " 0.2026,\n",
       " 0.05223,\n",
       " 0.5858,\n",
       " 0.8554,\n",
       " 4.106,\n",
       " 68.46,\n",
       " 0.005038,\n",
       " 0.01503,\n",
       " 0.01946,\n",
       " 0.01123,\n",
       " 0.02294,\n",
       " 0.002581,\n",
       " 19.8,\n",
       " 25.05,\n",
       " 130.0,\n",
       " 1210.0,\n",
       " 0.1111,\n",
       " 0.1486,\n",
       " 0.1932,\n",
       " 0.1096,\n",
       " 0.3275,\n",
       " 0.06469,\n",
       " None,\n",
       " None,\n",
       " 904,\n",
       " 879830,\n",
       " 0.9598127618556695,\n",
       " 879830,\n",
       " 0.8702652490649188)"
      ]
     },
     "execution_count": 25,
     "metadata": {},
     "output_type": "execute_result"
    }
   ],
   "source": [
    "conn = sqlite3.connect(data_dir+'mydatabase.db')\n",
    "c = conn.cursor()\n",
    "\n",
    "c.execute(\"\"\"\n",
    "    SELECT *\n",
    "    FROM bc\n",
    "    INNER JOIN tomatch ON bc.id = tomatch.id_ AND bc.radius_mean > 15 AND tomatch.rdm_float > 0.50\n",
    "    INNER JOIN tomatch2 ON bc.id = tomatch2.id_ AND bc.radius_mean > 15 AND tomatch2.rdm_float > 0.50\n",
    "    LIMIT 10;\n",
    "\"\"\")\n",
    "\n",
    "result = c.fetchone()\n",
    "result"
   ]
  },
  {
   "cell_type": "markdown",
   "id": "5c5ee8ce-e651-469c-8d22-f2dbb3e3af58",
   "metadata": {},
   "source": [
    "## MySQL"
   ]
  },
  {
   "cell_type": "markdown",
   "id": "8ffd7516-a375-4403-957e-5fb5baa3bf88",
   "metadata": {},
   "source": [
    "#### 1 : How many orders were placed in total?"
   ]
  },
  {
   "cell_type": "code",
   "execution_count": 1,
   "id": "2ecb4c09-ab6b-4f51-b2ae-08a1b98e85c7",
   "metadata": {},
   "outputs": [
    {
     "name": "stdout",
     "output_type": "stream",
     "text": [
      "350 Orders\n"
     ]
    }
   ],
   "source": [
    "mydb = mysql.connector.connect(\n",
    "    host=\"localhost\",\n",
    "    user=\"root\",\n",
    "    password=\"root\",\n",
    "    database=\"sample8s\"\n",
    ")\n",
    "\n",
    "c = mydb.cursor()\n",
    "\n",
    "c.execute( \"\"\"\n",
    "    SELECT COUNT(*)\n",
    "    FROM sample_superstore\n",
    "\"\"\")\n",
    "\n",
    "count = c.fetchone()\n",
    "print(count[0], 'Orders')"
   ]
  },
  {
   "cell_type": "markdown",
   "id": "66f29d24-bcae-4089-91e4-f8ac9a06cacf",
   "metadata": {},
   "source": [
    "#### 2 : What is the total sales amount?"
   ]
  },
  {
   "cell_type": "code",
   "execution_count": 2,
   "id": "9f2f6c23-00ca-4127-a51b-504bef646938",
   "metadata": {},
   "outputs": [
    {
     "name": "stdout",
     "output_type": "stream",
     "text": [
      "Total sales : 261110.62 $\n"
     ]
    }
   ],
   "source": [
    "c = mydb.cursor()\n",
    "\n",
    "c.execute( \"\"\"\n",
    "    SELECT SUM(Sales)\n",
    "    FROM sample_superstore\n",
    "\"\"\")\n",
    "\n",
    "count = c.fetchone()\n",
    "print(\"Total sales :\", round(count[0],2),\"$\")"
   ]
  },
  {
   "cell_type": "markdown",
   "id": "3d591df6-97d0-43e2-9c67-522496cc0b9e",
   "metadata": {},
   "source": [
    "#### 3 : What is the average profit per order?"
   ]
  },
  {
   "cell_type": "code",
   "execution_count": 3,
   "id": "212d29ee-a41a-41ed-843b-c8f4220b034d",
   "metadata": {},
   "outputs": [
    {
     "name": "stdout",
     "output_type": "stream",
     "text": [
      "136.04 $ average profit\n"
     ]
    }
   ],
   "source": [
    "c = mydb.cursor()\n",
    "\n",
    "c.execute( \"\"\"\n",
    "    SELECT AVG(Profit)\n",
    "    FROM sample_superstore\n",
    "\"\"\")\n",
    "\n",
    "count = c.fetchone()\n",
    "print(round(count[0],2), '$ average profit')"
   ]
  },
  {
   "cell_type": "markdown",
   "id": "5b95e59b-41a4-4d19-9488-9f0dbd8ca043",
   "metadata": {},
   "source": [
    "#### 4 : Which customer has placed the most orders?"
   ]
  },
  {
   "cell_type": "code",
   "execution_count": 4,
   "id": "5d019bae-eccf-4a90-b5f8-3bed879fb6e8",
   "metadata": {},
   "outputs": [
    {
     "name": "stdout",
     "output_type": "stream",
     "text": [
      "Tony Wilkins Winters placed 24 orders\n"
     ]
    }
   ],
   "source": [
    "c = mydb.cursor()\n",
    "\n",
    "c.execute( \"\"\"\n",
    "    SELECT COUNT(*), `Customer Name`\n",
    "    FROM sample_superstore\n",
    "    GROUP BY `Customer Name`\n",
    "    ORDER BY COUNT(*) DESC\n",
    "    LIMIT 1;\n",
    "\"\"\")\n",
    "\n",
    "count = c.fetchone()\n",
    "print(count[1],\"placed\", count[0], \"orders\")"
   ]
  },
  {
   "cell_type": "markdown",
   "id": "58037756-8553-4aeb-a8f7-4e281096fc58",
   "metadata": {},
   "source": [
    "#### 5 : What is the total profit for each product category?"
   ]
  },
  {
   "cell_type": "code",
   "execution_count": 5,
   "id": "09c24790-f7e8-434e-a25b-5265da621434",
   "metadata": {},
   "outputs": [
    {
     "name": "stdout",
     "output_type": "stream",
     "text": [
      "[('Office Supplies', 23211.967080000002), ('Technology', 20450.68018400001), ('Furniture', 3952.1451930000067)]\n"
     ]
    }
   ],
   "source": [
    "c = mydb.cursor()\n",
    "\n",
    "c.execute( \"\"\"\n",
    "    SELECT `Product Category`, SUM(Profit)\n",
    "    FROM sample_superstore\n",
    "    GROUP BY `Product Category`\n",
    "\"\"\")\n",
    "\n",
    "count = c.fetchall()\n",
    "print(count)"
   ]
  },
  {
   "cell_type": "markdown",
   "id": "6fd16837-1b81-47d6-a36c-351048881840",
   "metadata": {},
   "source": [
    "#### 6 : What is the average discount percentage?"
   ]
  },
  {
   "cell_type": "code",
   "execution_count": 6,
   "id": "c6b465a0-35e6-42ac-ad1e-32c792cea014",
   "metadata": {},
   "outputs": [
    {
     "name": "stdout",
     "output_type": "stream",
     "text": [
      "4.97 %\n"
     ]
    }
   ],
   "source": [
    "c = mydb.cursor()\n",
    "\n",
    "c.execute( \"\"\"\n",
    "    SELECT AVG(Discount)\n",
    "    FROM sample_superstore\n",
    "\"\"\")\n",
    "\n",
    "count = c.fetchone()\n",
    "print(round(count[0]*100,2),\"%\")"
   ]
  },
  {
   "cell_type": "markdown",
   "id": "79b7e677-4b81-4e08-86e6-2e2be80bfb82",
   "metadata": {},
   "source": [
    "#### 7 : Which region has the highest total sales?"
   ]
  },
  {
   "cell_type": "code",
   "execution_count": 7,
   "id": "b242c217-5a46-4787-89a0-aca644d4a151",
   "metadata": {},
   "outputs": [
    {
     "name": "stdout",
     "output_type": "stream",
     "text": [
      "Highest total sales : 151357 $ in region West\n"
     ]
    }
   ],
   "source": [
    "c = mydb.cursor()\n",
    "\n",
    "c.execute( \"\"\"\n",
    "    SELECT Region, SUM(Sales) \n",
    "    FROM sample_superstore\n",
    "    GROUP BY Region\n",
    "    ORDER BY SUM(Sales) DESC\n",
    "    LIMIT 1;\n",
    "\"\"\")\n",
    "\n",
    "count = c.fetchone()\n",
    "print(\"Highest total sales :\", round(count[1]), \"$ in region\", count[0])"
   ]
  },
  {
   "cell_type": "markdown",
   "id": "618fbde3-5bcb-4ebb-9d85-475d06b66dfc",
   "metadata": {},
   "source": [
    "#### 8 : How many orders were shipped using each shipping mode?"
   ]
  },
  {
   "cell_type": "code",
   "execution_count": 8,
   "id": "f62ffcd9-7677-4f68-8c14-767f41f18121",
   "metadata": {},
   "outputs": [
    {
     "name": "stdout",
     "output_type": "stream",
     "text": [
      "Regular Air : 262 orders\n",
      "Express Air : 46 orders\n",
      "Delivery Truck : 42 orders\n"
     ]
    }
   ],
   "source": [
    "c = mydb.cursor()\n",
    "\n",
    "c.execute( \"\"\"\n",
    "    SELECT `Ship Mode`, COUNT(*) \n",
    "    FROM sample_superstore\n",
    "    GROUP BY `Ship Mode`;\n",
    "\"\"\")\n",
    "\n",
    "count = c.fetchall()\n",
    "\n",
    "for i in range(len(count)):\n",
    "    print(count[i][0],\":\",count[i][1],\"orders\")"
   ]
  },
  {
   "cell_type": "markdown",
   "id": "615d1cbe-e247-4335-bb94-24a553d17263",
   "metadata": {},
   "source": [
    "#### 9 : What is the total quantity ordered for each product sub-category?"
   ]
  },
  {
   "cell_type": "code",
   "execution_count": 9,
   "id": "ae2e30df-1eda-404a-b7db-6c7bdb2ee615",
   "metadata": {},
   "outputs": [
    {
     "name": "stdout",
     "output_type": "stream",
     "text": [
      "Labels : 342 orders\n",
      "Pens & Art Supplies : 392 orders\n",
      "Paper : 572 orders\n",
      "Scissors, Rulers and Trimmers : 48 orders\n",
      "Telephones and Communication : 504 orders\n",
      "Office Machines : 246 orders\n",
      "Chairs & Chairmats : 332 orders\n",
      "Appliances : 368 orders\n",
      "Bookcases : 78 orders\n",
      "Tables : 100 orders\n",
      "Envelopes : 92 orders\n",
      "Office Furnishings : 466 orders\n",
      "Rubber Bands : 238 orders\n",
      "Binders and Binder Accessories : 258 orders\n",
      "Storage & Organization : 242 orders\n",
      "Copiers and Fax : 10 orders\n",
      "Computer Peripherals : 138 orders\n"
     ]
    }
   ],
   "source": [
    "c = mydb.cursor()\n",
    "\n",
    "c.execute( \"\"\"\n",
    "    SELECT `Product Sub-Category`, SUM(`Quantity ordered new`) \n",
    "    FROM sample_superstore\n",
    "    GROUP BY `Product Sub-Category`;\n",
    "\"\"\")\n",
    "\n",
    "count = c.fetchall()\n",
    "for i in range(len(count)):\n",
    "    print(count[i][0],\":\", count[i][1],\"orders\")"
   ]
  },
  {
   "cell_type": "markdown",
   "id": "3d96267c-e55e-4522-ab5f-61f8c1209b97",
   "metadata": {},
   "source": [
    "#### 10 : Which product has the highest profit margin?"
   ]
  },
  {
   "cell_type": "code",
   "execution_count": 10,
   "id": "b23c77f9-1f0e-40e9-a9ce-630c6e9f6f3e",
   "metadata": {},
   "outputs": [
    {
     "name": "stdout",
     "output_type": "stream",
     "text": [
      "Accessory29 : 0.83 Base margin\n",
      "IrisÂ® 3-Drawer Stacking Bin, Black : 0.83 Base margin\n",
      "Accessory37 : 0.81 Base margin\n"
     ]
    }
   ],
   "source": [
    "c = mydb.cursor()\n",
    "\n",
    "c.execute( \"\"\"\n",
    "    SELECT DISTINCT(`Product Name`), `Product Base Margin`\n",
    "    FROM sample_superstore\n",
    "    ORDER BY `Product Base Margin` DESC\n",
    "    LIMIT 3;\n",
    "\"\"\")\n",
    "\n",
    "count = c.fetchall()\n",
    "for i in range(len(count)):\n",
    "    print(count[i][0],\":\", count[i][1],\"Base margin\")"
   ]
  },
  {
   "cell_type": "markdown",
   "id": "53eb2388-0a72-4d87-86f4-ad4b2afcf10b",
   "metadata": {},
   "source": [
    "#### 11 : What is the total sales amount for each year?"
   ]
  },
  {
   "cell_type": "code",
   "execution_count": 11,
   "id": "1609cbe1-7874-4271-90c1-a2a7f0a77008",
   "metadata": {},
   "outputs": [
    {
     "name": "stdout",
     "output_type": "stream",
     "text": [
      "2010 : 50755.56 $ total sales\n",
      "2011 : 24096.24 $ total sales\n",
      "2012 : 89786.42 $ total sales\n",
      "2013 : 96472.4 $ total sales\n"
     ]
    }
   ],
   "source": [
    "c = mydb.cursor()\n",
    "\n",
    "c.execute( \"\"\"\n",
    "    SELECT YEAR(STR_TO_DATE(`Order Date`, '%m/%d/%Y')) AS Year, SUM(Sales)\n",
    "    FROM sample_superstore\n",
    "    GROUP BY YEAR(STR_TO_DATE(`Order Date`, '%m/%d/%Y'))\n",
    "    ORDER BY Year ASC;\n",
    "\"\"\")\n",
    "\n",
    "count = c.fetchall()\n",
    "for i  in range(len(count)):\n",
    "    print(count[i][0],\":\", round(count[i][1],2),\"$ total sales\")"
   ]
  },
  {
   "cell_type": "markdown",
   "id": "991d37af-82b2-46c2-82af-a43a0f7e7508",
   "metadata": {},
   "source": [
    "#### 12 : Which customer segment has the highest average sales?"
   ]
  },
  {
   "cell_type": "code",
   "execution_count": 13,
   "id": "c7559bbc-e768-41e4-9560-78261d16afd3",
   "metadata": {},
   "outputs": [
    {
     "name": "stdout",
     "output_type": "stream",
     "text": [
      "Small Business : 1041.56 $ average sales\n"
     ]
    }
   ],
   "source": [
    "c = mydb.cursor()\n",
    "\n",
    "c.execute( \"\"\"\n",
    "    SELECT AVG(Sales), `Customer Segment`\n",
    "    FROM sample_superstore\n",
    "    GROUP BY `Customer Segment`\n",
    "    ORDER BY AVG(Sales) DESC\n",
    "    LIMIT 1;\n",
    "\"\"\")\n",
    "\n",
    "count = c.fetchall()\n",
    "print(count[0][1],\":\", round(count[0][0],2),\"$ average sales\")"
   ]
  },
  {
   "cell_type": "markdown",
   "id": "9ce8588f-4171-40bd-bcad-dc1cb97ed4bb",
   "metadata": {},
   "source": [
    "## PostgreSQL"
   ]
  },
  {
   "cell_type": "code",
   "execution_count": null,
   "id": "83b3d088-2675-48ad-ad0b-a350694a60b1",
   "metadata": {},
   "outputs": [],
   "source": [
    "conn = psycopg2.connect(dbname=\"mydb\", user=\"postgres\", password=\"root\", host=\"localhost\",  port=\"5432\" )\n",
    "cur = conn.cursor()\n",
    "\n",
    "table_name = \"bank_full\"\n",
    "columns = [\n",
    "    \"age INTEGER\",\n",
    "    \"job VARCHAR(100)\",\n",
    "    \"marital VARCHAR(20)\",\n",
    "    \"education VARCHAR(100)\",\n",
    "    \"default_ VARCHAR(10)\",\n",
    "    \"balance NUMERIC\",\n",
    "    \"housing VARCHAR(10)\",\n",
    "    \"loan VARCHAR(10)\",\n",
    "    \"contact VARCHAR(100)\",\n",
    "    \"day INTEGER\",\n",
    "    \"month VARCHAR(20)\",\n",
    "    \"duration INTEGER\",\n",
    "    \"campaign INTEGER\",\n",
    "    \"pdays INTEGER\",\n",
    "    \"previous INTEGER\",\n",
    "    \"poutcome VARCHAR(100)\",\n",
    "    \"y VARCHAR(10)\"\n",
    "]\n",
    "\n",
    "create_table_query = (\n",
    "    \"CREATE TABLE IF NOT EXISTS \" + table_name + \" (\" +\n",
    "    \", \".join(columns) +\n",
    "    \")\"\n",
    ")\n",
    "\n",
    "cur.execute(create_table_query)\n",
    "\n",
    "conn.commit()\n",
    "cur.close()\n",
    "conn.close()"
   ]
  },
  {
   "cell_type": "markdown",
   "id": "95a410d2-1a82-4880-80ff-3ff5431d3921",
   "metadata": {},
   "source": [
    "#### 1 : What is the average age of the customers?"
   ]
  },
  {
   "cell_type": "code",
   "execution_count": 133,
   "id": "f312e9f7-12b8-4b52-8a4b-6631b08a149a",
   "metadata": {},
   "outputs": [
    {
     "name": "stdout",
     "output_type": "stream",
     "text": [
      "41 years old in average\n"
     ]
    }
   ],
   "source": [
    "conn = psycopg2.connect(dbname=\"mydb\", user=\"postgres\", password=\"root\", host=\"localhost\",  port=\"5432\" )\n",
    "cur = conn.cursor()\n",
    "\n",
    "cur.execute(\"\"\"\n",
    "    SELECT AVG(age)\n",
    "    FROM bank_full;\n",
    "\"\"\")\n",
    "avg = cur.fetchone()\n",
    "\n",
    "print(round(avg[0],0),\"years old in average\")"
   ]
  },
  {
   "cell_type": "markdown",
   "id": "96b570b1-3569-41b0-899c-a3a90c162aa6",
   "metadata": {},
   "source": [
    "#### 2 : How many customers have defaulted on loans?"
   ]
  },
  {
   "cell_type": "code",
   "execution_count": 134,
   "id": "f166d76f-5ff8-4fb2-b4ef-15a79863b082",
   "metadata": {},
   "outputs": [
    {
     "name": "stdout",
     "output_type": "stream",
     "text": [
      "815 customers defaulted on loans\n"
     ]
    }
   ],
   "source": [
    "conn = psycopg2.connect(dbname=\"mydb\", user=\"postgres\", password=\"root\", host=\"localhost\",  port=\"5432\" )\n",
    "cur = conn.cursor()\n",
    "\n",
    "cur.execute(\"\"\"\n",
    "    SELECT COUNT(*)\n",
    "    FROM bank_full\n",
    "    WHERE default_ ='yes';\n",
    "\"\"\")\n",
    "custom_cnt = cur.fetchone()\n",
    "\n",
    "print(round(custom_cnt[0],0),\"customers defaulted on loans\")"
   ]
  },
  {
   "cell_type": "markdown",
   "id": "4f3dea0b-7e76-42df-a18b-920dcbdcaab2",
   "metadata": {},
   "source": [
    "#### 3 : What is the maximum balance in the account?"
   ]
  },
  {
   "cell_type": "code",
   "execution_count": 136,
   "id": "2c22c580-9259-4c0f-a41a-334ddb45c78d",
   "metadata": {},
   "outputs": [
    {
     "name": "stdout",
     "output_type": "stream",
     "text": [
      "102127 is the maximum account balance\n"
     ]
    }
   ],
   "source": [
    "conn = psycopg2.connect(dbname=\"mydb\", user=\"postgres\", password=\"root\", host=\"localhost\",  port=\"5432\" )\n",
    "cur = conn.cursor()\n",
    "\n",
    "cur.execute(\"\"\"\n",
    "    SELECT MAX(balance)\n",
    "    FROM bank_full;\n",
    "\"\"\")\n",
    "max = cur.fetchone()\n",
    "\n",
    "print(round(max[0],0),\"is the maximum account balance\")"
   ]
  },
  {
   "cell_type": "markdown",
   "id": "e0c56fa8-6f19-4772-9937-188c75947de5",
   "metadata": {},
   "source": [
    "#### 4 : How many customers have a housing loan?"
   ]
  },
  {
   "cell_type": "code",
   "execution_count": 137,
   "id": "488daed5-1aba-48a7-87a2-29a86f4e88e5",
   "metadata": {},
   "outputs": [
    {
     "name": "stdout",
     "output_type": "stream",
     "text": [
      "7244 customers have a housing loan\n"
     ]
    }
   ],
   "source": [
    "conn = psycopg2.connect(dbname=\"mydb\", user=\"postgres\", password=\"root\", host=\"localhost\",  port=\"5432\" )\n",
    "cur = conn.cursor()\n",
    "\n",
    "cur.execute(\"\"\"\n",
    "    SELECT COUNT(*)\n",
    "    FROM bank_full\n",
    "    WHERE loan='yes';\n",
    "\"\"\")\n",
    "loan_nb = cur.fetchone()\n",
    "\n",
    "print(round(loan_nb[0],0),\"customers have a housing loan\")"
   ]
  },
  {
   "cell_type": "markdown",
   "id": "a46a79c6-740e-45ce-93ae-f369d096246f",
   "metadata": {},
   "source": [
    "#### 5 : What is the education level of the youngest customer?"
   ]
  },
  {
   "cell_type": "code",
   "execution_count": 140,
   "id": "f017cf1e-1769-405b-a534-b4cb470da2fc",
   "metadata": {},
   "outputs": [
    {
     "name": "stdout",
     "output_type": "stream",
     "text": [
      "education level : primary\n"
     ]
    }
   ],
   "source": [
    "conn = psycopg2.connect(dbname=\"mydb\", user=\"postgres\", password=\"root\", host=\"localhost\",  port=\"5432\" )\n",
    "cur = conn.cursor()\n",
    "\n",
    "cur.execute(\"\"\"\n",
    "    SELECT education, age\n",
    "    FROM bank_full\n",
    "    ORDER BY age ASC\n",
    "    LIMIT 1;\n",
    "\"\"\")\n",
    "educ = cur.fetchone()\n",
    "\n",
    "print(\"education level :\", educ[0])"
   ]
  },
  {
   "cell_type": "markdown",
   "id": "18b7f48b-a1aa-4f00-aba5-121a5acf7a3b",
   "metadata": {},
   "source": [
    "#### 6 : What is the marital status of the oldest customer?"
   ]
  },
  {
   "cell_type": "code",
   "execution_count": 141,
   "id": "18515c92-64bd-43b7-92c7-e8b11192edf2",
   "metadata": {},
   "outputs": [
    {
     "name": "stdout",
     "output_type": "stream",
     "text": [
      "divorced\n"
     ]
    }
   ],
   "source": [
    "conn = psycopg2.connect(dbname=\"mydb\", user=\"postgres\", password=\"root\", host=\"localhost\",  port=\"5432\" )\n",
    "cur = conn.cursor()\n",
    "\n",
    "cur.execute(\"\"\"\n",
    "    SELECT marital, age\n",
    "    FROM bank_full\n",
    "    ORDER BY age DESC\n",
    "    LIMIT 1;\n",
    "\"\"\")\n",
    "mary = cur.fetchone()\n",
    "\n",
    "print(mary[0])"
   ]
  },
  {
   "cell_type": "markdown",
   "id": "379288fb-8f24-41d7-9e60-700137d3e11b",
   "metadata": {},
   "source": [
    "#### 7 : What is the distribution of the months in which customers were last contacted?"
   ]
  },
  {
   "cell_type": "code",
   "execution_count": 142,
   "id": "c533d2c3-868c-4790-9c49-e96f19e1bf6d",
   "metadata": {},
   "outputs": [
    {
     "name": "stdout",
     "output_type": "stream",
     "text": [
      "738 customers were last contacted in oct\n",
      "2932 customers were last contacted in apr\n",
      "6895 customers were last contacted in jul\n",
      "13766 customers were last contacted in may\n",
      "1403 customers were last contacted in jan\n",
      "3970 customers were last contacted in nov\n",
      "214 customers were last contacted in dec\n",
      "6247 customers were last contacted in aug\n",
      "5341 customers were last contacted in jun\n",
      "477 customers were last contacted in mar\n",
      "579 customers were last contacted in sep\n",
      "2649 customers were last contacted in feb\n"
     ]
    }
   ],
   "source": [
    "conn = psycopg2.connect(dbname=\"mydb\", user=\"postgres\", password=\"root\", host=\"localhost\",  port=\"5432\" )\n",
    "\n",
    "cur = conn.cursor()\n",
    "\n",
    "cur.execute(\"\"\"\n",
    "    SELECT month, COUNT(*)\n",
    "    FROM bank_full\n",
    "    GROUP BY month;\n",
    "\"\"\")\n",
    "months = cur.fetchall()\n",
    "\n",
    "for i in range(len(months)):\n",
    "    print(months[i][1], \"customers were last contacted in\",months[i][0])"
   ]
  },
  {
   "cell_type": "markdown",
   "id": "b85236c0-2c4c-4efa-a65c-9910d4acae68",
   "metadata": {},
   "source": [
    "#### 8 : What is the average duration of contact for customers who have a personal loan?"
   ]
  },
  {
   "cell_type": "code",
   "execution_count": 147,
   "id": "dc62aab7-c3ab-4170-b92d-b68550e29a9e",
   "metadata": {},
   "outputs": [
    {
     "name": "stdout",
     "output_type": "stream",
     "text": [
      "average duration : 251\n"
     ]
    }
   ],
   "source": [
    "conn = psycopg2.connect(dbname=\"mydb\", user=\"postgres\", password=\"root\", host=\"localhost\",  port=\"5432\" )\n",
    "cur = conn.cursor()\n",
    "\n",
    "cur.execute(\"\"\"\n",
    "    SELECT AVG(duration)\n",
    "    FROM bank_full\n",
    "    WHERE loan='yes';\n",
    "\"\"\")\n",
    "dura = cur.fetchone()\n",
    "\n",
    "print(\"average duration :\", round(dura[0]))"
   ]
  },
  {
   "cell_type": "markdown",
   "id": "3b7df8de-4fbc-4577-b55b-616b13f03b21",
   "metadata": {},
   "source": [
    "#### 9 : How many customers were previously contacted, and what was the average duration of their last contact?"
   ]
  },
  {
   "cell_type": "code",
   "execution_count": 149,
   "id": "305d72bd-3387-4831-8540-ee3d8ea7b071",
   "metadata": {},
   "outputs": [
    {
     "name": "stdout",
     "output_type": "stream",
     "text": [
      "8257 previously contacted customers \n",
      "Average duration of their last contact : 260\n"
     ]
    }
   ],
   "source": [
    "conn = psycopg2.connect(dbname=\"mydb\", user=\"postgres\", password=\"root\", host=\"localhost\",  port=\"5432\" )\n",
    "cur = conn.cursor()\n",
    "\n",
    "cur.execute(\"\"\"\n",
    "    SELECT COUNT(*), AVG(duration)\n",
    "    FROM bank_full\n",
    "    WHERE previous!=0;\n",
    "\"\"\")\n",
    "contacts = cur.fetchone()\n",
    "\n",
    "print(contacts[0],\"previously contacted customers\", \"\\nAverage duration of their last contact :\", round(contacts[1]))"
   ]
  },
  {
   "cell_type": "markdown",
   "id": "d4c1e544-4eb0-4ec5-922e-946abfa55b1f",
   "metadata": {},
   "source": [
    "#### 10 : What is the distribution of job types among customers?"
   ]
  },
  {
   "cell_type": "code",
   "execution_count": 150,
   "id": "69f3a9c4-1beb-4903-aba8-51d623ec577c",
   "metadata": {},
   "outputs": [
    {
     "name": "stdout",
     "output_type": "stream",
     "text": [
      "blue-collar : 9732\n",
      "management : 9458\n",
      "technician : 7597\n",
      "admin. : 5171\n",
      "services : 4154\n",
      "retired : 2264\n",
      "self-employed : 1579\n",
      "entrepreneur : 1487\n",
      "unemployed : 1303\n",
      "housemaid : 1240\n",
      "student : 938\n",
      "unknown : 288\n"
     ]
    }
   ],
   "source": [
    "conn = psycopg2.connect(dbname=\"mydb\", user=\"postgres\", password=\"root\", host=\"localhost\",  port=\"5432\" )\n",
    "cur = conn.cursor()\n",
    "\n",
    "cur.execute(\"\"\"\n",
    "    SELECT job, COUNT(*)\n",
    "    FROM bank_full\n",
    "    GROUP BY job\n",
    "    ORDER BY COUNT(*) DESC;\n",
    "\"\"\")\n",
    "jobs = cur.fetchall()\n",
    "\n",
    "for i in range(len(jobs)):\n",
    "    print(jobs[i][0],\":\",jobs[i][1])"
   ]
  },
  {
   "cell_type": "markdown",
   "id": "7131ade5-0c34-4f64-bd0f-259a5a9d80ec",
   "metadata": {},
   "source": [
    "#### 11 : How many customers have been contacted more than once in the current campaign?"
   ]
  },
  {
   "cell_type": "code",
   "execution_count": 151,
   "id": "9bafecba-47f5-47eb-9056-8badd4d21524",
   "metadata": {},
   "outputs": [
    {
     "name": "stdout",
     "output_type": "stream",
     "text": [
      "27667 customers contacted more than once\n"
     ]
    }
   ],
   "source": [
    "conn = psycopg2.connect(dbname=\"mydb\", user=\"postgres\", password=\"root\", host=\"localhost\",  port=\"5432\" )\n",
    "cur = conn.cursor()\n",
    "\n",
    "cur.execute(\"\"\"\n",
    "    SELECT COUNT(*)\n",
    "    FROM bank_full\n",
    "    WHERE campaign > 1;\n",
    "\"\"\")\n",
    "contacted = cur.fetchone()\n",
    "\n",
    "print(contacted[0],\"customers contacted more than once\")"
   ]
  },
  {
   "cell_type": "markdown",
   "id": "c13b664a-2aa8-4d34-a27c-5f2ce94a2b71",
   "metadata": {},
   "source": [
    "#### 12 : What is the success rate of previous marketing campaigns (poutcome) among customers"
   ]
  },
  {
   "cell_type": "code",
   "execution_count": 152,
   "id": "a0999971-b051-4ce4-8f51-ed918c23d81b",
   "metadata": {},
   "outputs": [
    {
     "name": "stdout",
     "output_type": "stream",
     "text": [
      "success rate : 3.34 %\n"
     ]
    }
   ],
   "source": [
    "conn = psycopg2.connect(dbname=\"mydb\", user=\"postgres\", password=\"root\", host=\"localhost\",  port=\"5432\" )\n",
    "cur = conn.cursor()\n",
    "\n",
    "cur.execute(\"\"\"\n",
    "    SELECT COUNT(*)\n",
    "    FROM bank_full\n",
    "    WHERE poutcome='success';\n",
    "\"\"\")\n",
    "success = cur.fetchone()\n",
    "\n",
    "\n",
    "cur = conn.cursor()\n",
    "cur.execute(\"\"\"\n",
    "    SELECT COUNT(*)\n",
    "    FROM bank_full;\n",
    "\"\"\")\n",
    "total = cur.fetchone()\n",
    "\n",
    "print(\"success rate :\", round(100*success[0]/total[0],2),\"%\")"
   ]
  }
 ],
 "metadata": {
  "kernelspec": {
   "display_name": "Python 3 (ipykernel)",
   "language": "python",
   "name": "python3"
  },
  "language_info": {
   "codemirror_mode": {
    "name": "ipython",
    "version": 3
   },
   "file_extension": ".py",
   "mimetype": "text/x-python",
   "name": "python",
   "nbconvert_exporter": "python",
   "pygments_lexer": "ipython3",
   "version": "3.11.5"
  }
 },
 "nbformat": 4,
 "nbformat_minor": 5
}
