{
 "cells": [
  {
   "cell_type": "code",
   "execution_count": 233,
   "metadata": {},
   "outputs": [],
   "source": [
    "#!pip install py2neo\n",
    "import pandas as pd\n",
    "import py2neo\n",
    "import json\n",
    "from tqdm import tqdm\n",
    "from pprint import pprint\n",
    "import matplotlib.pyplot as plt\n",
    "from py2neo import Graph, Node, Relationship\n",
    "import numpy as np\n",
    "import seaborn as sns\n",
    "import random\n",
    "import warnings\n",
    "\n",
    "data_dir = 'C:/Users/werne/Documents/NSQL/data'"
   ]
  },
  {
   "cell_type": "code",
   "execution_count": null,
   "metadata": {},
   "outputs": [],
   "source": [
    "graph = py2neo.Graph(\"bolt://localhost:7687\", auth=(\"neo4j\", \"rootuser\"), name=\"mcu\")\n",
    "characters = pd.read_csv(data_dir+\"characters.csv\")\n",
    "\n",
    "graph.delete_all()\n",
    "\n",
    "try:\n",
    "    graph.run(\"CREATE CONSTRAINT ON (n:Superhero) ASSERT n.id_ IS UNIQUE\")\n",
    "except:\n",
    "    print(\"Constraint already exists\")\n",
    "\n",
    "transaction_list = []\n",
    "\n",
    "for row in tqdm.tqdm(characters.iterrows()):\n",
    "    id_ = row[1][\"characterID\"]\n",
    "    name = row[1][\"name\"]\n",
    "    transaction_list.append({\"id_\":id_,\"name\":name})\n",
    "    # Commit when list = 1000, vary it depending of the case\n",
    "    if len(transaction_list) == 1000:\n",
    "        # UNWIND = split the list given to it (here $json because json=transaction_list)\n",
    "        # For each dict do the following query CREATE (n:Superhero) SET n = data\n",
    "        transaction = \"UNWIND $json as data CREATE (n:Superhero) SET n = data\"\n",
    "        graph.run(transaction, json=transaction_list)\n",
    "        transaction_list = []\n",
    "\n",
    "graph.run(transaction, json=transaction_list)\n",
    "\n",
    "pass"
   ]
  },
  {
   "cell_type": "markdown",
   "metadata": {},
   "source": [
    "# Exercises\n",
    "\n",
    "## CRUD operations:\n",
    "\n",
    "\n",
    "#### 1 : You will continue to work on the MCU network for a while. Who are the 10 fastest in the MCU ? Are they related to each other ?"
   ]
  },
  {
   "cell_type": "code",
   "execution_count": 9,
   "metadata": {},
   "outputs": [
    {
     "name": "stdout",
     "output_type": "stream",
     "text": [
      "            Name\n",
      "0     Black Bolt\n",
      "1       Stardust\n",
      "2    Quicksilver\n",
      "3           Nova\n",
      "4           Thor\n",
      "5  Silver Surfer\n",
      "6       Galactus\n",
      "7       Dormammu\n",
      "8            Ego\n",
      "9      Northstar\n"
     ]
    }
   ],
   "source": [
    "query = \"\"\"\n",
    "        MATCH (a:Superhero)\n",
    "        WHERE a.Speed IS NOT NULL\n",
    "        RETURN a.name AS Name\n",
    "        ORDER BY a.Speed DESC\n",
    "        LIMIT 10\n",
    "        \"\"\"\n",
    "\n",
    "fast_list = graph.run(query).to_data_frame()\n",
    "fastest_heroes = fast_list['Name'].tolist()\n",
    "print(fast_list)"
   ]
  },
  {
   "cell_type": "code",
   "execution_count": 10,
   "metadata": {},
   "outputs": [
    {
     "name": "stdout",
     "output_type": "stream",
     "text": [
      "            Hero                                                     Related to\n",
      "0       Galactus  [Silver Surfer, Thor, Quicksilver, Nova, Northstar, Stardust]\n",
      "1     Black Bolt             [Galactus, Silver Surfer, Thor, Quicksilver, Nova]\n",
      "2            Ego             [Galactus, Silver Surfer, Thor, Quicksilver, Nova]\n",
      "3       Dormammu                   [Galactus, Silver Surfer, Thor, Quicksilver]\n",
      "4           Nova                             [Silver Surfer, Thor, Quicksilver]\n",
      "5      Northstar                                            [Thor, Quicksilver]\n",
      "6    Quicksilver                                          [Silver Surfer, Thor]\n",
      "7  Silver Surfer                                               [Thor, Stardust]\n"
     ]
    }
   ],
   "source": [
    "query = \"\"\"\n",
    "        MATCH (a:Superhero)-[r]-(b:Superhero)\n",
    "        WHERE a.name IN $names AND b.name IN $names AND a.name < b.name\n",
    "        WITH a.name AS `Hero 1`, collect(b.name) AS `Related to`, size(collect(b.name)) AS `Connections`\n",
    "        ORDER BY `Connections` DESC, `Hero 1`\n",
    "        RETURN `Hero 1` AS Hero, `Related to`\n",
    "        \"\"\"\n",
    "\n",
    "ordered_relations = graph.run(query, names=fastest_heroes).to_data_frame()\n",
    "\n",
    "pd.set_option('display.max_colwidth', 100)\n",
    "pd.set_option('display.width', 1000) \n",
    "print(ordered_relations)"
   ]
  },
  {
   "cell_type": "markdown",
   "metadata": {},
   "source": [
    "#### 2 : How many have collaborated atleast more than 10 times with another superhero?"
   ]
  },
  {
   "cell_type": "code",
   "execution_count": 11,
   "metadata": {},
   "outputs": [
    {
     "name": "stdout",
     "output_type": "stream",
     "text": [
      "449 superheroes have collaborated more than 10 times with another superhero\n"
     ]
    }
   ],
   "source": [
    "query = \"\"\"\n",
    "        MATCH (a:Superhero)-[r:RELATION]->(b:Superhero)\n",
    "        WHERE r.n_collab > 10\n",
    "        WITH a, b\n",
    "        RETURN COUNT(DISTINCT a)\n",
    "        \"\"\"\n",
    "\n",
    "collaborators_count = [i for i in graph.run(query)][0]#########################\n",
    "print(collaborators_count, \"superheroes have collaborated more than 10 times with another superhero\")"
   ]
  },
  {
   "cell_type": "markdown",
   "metadata": {},
   "source": [
    "#### 3 : Did the weakest of the MCU collaborated with the strongest ?"
   ]
  },
  {
   "cell_type": "code",
   "execution_count": 14,
   "metadata": {},
   "outputs": [
    {
     "data": {
      "text/html": [
       "<div>\n",
       "<style scoped>\n",
       "    .dataframe tbody tr th:only-of-type {\n",
       "        vertical-align: middle;\n",
       "    }\n",
       "\n",
       "    .dataframe tbody tr th {\n",
       "        vertical-align: top;\n",
       "    }\n",
       "\n",
       "    .dataframe thead th {\n",
       "        text-align: right;\n",
       "    }\n",
       "</style>\n",
       "<table border=\"1\" class=\"dataframe\">\n",
       "  <thead>\n",
       "    <tr style=\"text-align: right;\">\n",
       "      <th></th>\n",
       "      <th>Strongest Hero :</th>\n",
       "      <th>Weakest Hero :</th>\n",
       "      <th>Collaborated :</th>\n",
       "    </tr>\n",
       "  </thead>\n",
       "  <tbody>\n",
       "    <tr>\n",
       "      <th>0</th>\n",
       "      <td>Galactus</td>\n",
       "      <td>Lady Deathstrike</td>\n",
       "      <td>False</td>\n",
       "    </tr>\n",
       "  </tbody>\n",
       "</table>\n",
       "</div>"
      ],
      "text/plain": [
       "  Strongest Hero :    Weakest Hero :  Collaborated :\n",
       "0         Galactus  Lady Deathstrike           False"
      ]
     },
     "execution_count": 14,
     "metadata": {},
     "output_type": "execute_result"
    }
   ],
   "source": [
    "query = \"\"\"\n",
    "        MATCH (weakest:Superhero), (strongest:Superhero)\n",
    "        WHERE weakest.Total IS NOT NULL AND strongest.Total IS NOT NULL\n",
    "        WITH weakest, strongest\n",
    "        ORDER BY weakest.Strength ASC, strongest.Strength DESC\n",
    "        LIMIT 1\n",
    "        OPTIONAL MATCH (weakest)-[r:RELATION]->(strongest)\n",
    "        RETURN strongest.name AS `Strongest Hero :`,\n",
    "               weakest.name AS `Weakest Hero :`,\n",
    "               r IS NOT NULL AS `Collaborated :`\n",
    "        \"\"\"\n",
    "\n",
    "result = graph.run(query).to_data_frame()\n",
    "result"
   ]
  },
  {
   "cell_type": "markdown",
   "metadata": {},
   "source": [
    "#### 4 : Give a stats that interests you ! "
   ]
  },
  {
   "cell_type": "code",
   "execution_count": 429,
   "metadata": {},
   "outputs": [
    {
     "name": "stdout",
     "output_type": "stream",
     "text": [
      "10.22% of Marvel characters are bald\n"
     ]
    }
   ],
   "source": [
    "characters = pd.read_csv(data_dir+\"marvel_characters_info.csv\")\n",
    "print(f'{sum(characters[\"HairColor\"]==\"No Hair\")*100/characters.shape[0]:.2f}% of Marvel characters are bald')"
   ]
  },
  {
   "cell_type": "markdown",
   "metadata": {},
   "source": [
    "#### 5 : Create a new db called \"master\". Create a graph from the M1 class with name and random age between 20 and 30, Group of 3 that collab (undirected relation)."
   ]
  },
  {
   "cell_type": "code",
   "execution_count": 16,
   "metadata": {},
   "outputs": [],
   "source": [
    "graph = py2neo.Graph(\"bolt://localhost:7687\", auth=(\"neo4j\", \"rootuser\"), name=\"master\")\n",
    "\n",
    "class_size = 18\n",
    "names = ['YOU'] + [f'Person{i}' for i in range(1, class_size)]\n",
    "random.shuffle(names)\n",
    "age_list = [random.randint(20, 30) for _ in range(class_size)]\n",
    "people_data = [{\"name\": name, \"age\": age} for name, age in zip(names, age_list)]\n",
    "\n",
    "transaction = graph.begin()\n",
    "\n",
    "nodes_to_create = {}\n",
    "for person in people_data:\n",
    "    person_node = py2neo.Node(\"Person\", **person)\n",
    "    transaction.create(person_node)\n",
    "    nodes_to_create[person['name']] = person_node\n",
    "\n",
    "for i in range(0, len(nodes_to_create) - 2, 3):\n",
    "    persons = [nodes_to_create[names[i]], nodes_to_create[names[i+1]], nodes_to_create[names[i+2]]]\n",
    "    for j in range(3):\n",
    "        for k in range(j + 1, 3):\n",
    "            transaction.create(py2neo.Relationship(persons[j], \"COLLABORATES\", persons[k]))\n",
    "            transaction.create(py2neo.Relationship(persons[k], \"COLLABORATES\", persons[j]))\n",
    "\n",
    "graph.commit(transaction)"
   ]
  },
  {
   "cell_type": "markdown",
   "metadata": {},
   "source": [
    "#### 6 : Get the age for people YOU collaborate with."
   ]
  },
  {
   "cell_type": "code",
   "execution_count": 17,
   "metadata": {},
   "outputs": [
    {
     "data": {
      "text/html": [
       "<div>\n",
       "<style scoped>\n",
       "    .dataframe tbody tr th:only-of-type {\n",
       "        vertical-align: middle;\n",
       "    }\n",
       "\n",
       "    .dataframe tbody tr th {\n",
       "        vertical-align: top;\n",
       "    }\n",
       "\n",
       "    .dataframe thead th {\n",
       "        text-align: right;\n",
       "    }\n",
       "</style>\n",
       "<table border=\"1\" class=\"dataframe\">\n",
       "  <thead>\n",
       "    <tr style=\"text-align: right;\">\n",
       "      <th></th>\n",
       "      <th>Name</th>\n",
       "      <th>Age</th>\n",
       "    </tr>\n",
       "  </thead>\n",
       "  <tbody>\n",
       "    <tr>\n",
       "      <th>0</th>\n",
       "      <td>Person13</td>\n",
       "      <td>22</td>\n",
       "    </tr>\n",
       "    <tr>\n",
       "      <th>1</th>\n",
       "      <td>Person1</td>\n",
       "      <td>30</td>\n",
       "    </tr>\n",
       "  </tbody>\n",
       "</table>\n",
       "</div>"
      ],
      "text/plain": [
       "       Name  Age\n",
       "0  Person13   22\n",
       "1   Person1   30"
      ]
     },
     "execution_count": 17,
     "metadata": {},
     "output_type": "execute_result"
    }
   ],
   "source": [
    "query = \"\"\"\n",
    "        MATCH (you:Person {name: 'YOU'})-[:COLLABORATES]-(c:Person)\n",
    "        RETURN DISTINCT c.name AS Name, c.age AS Age\n",
    "        \"\"\"\n",
    "\n",
    "results = graph.run(query).to_data_frame()\n",
    "results"
   ]
  },
  {
   "cell_type": "markdown",
   "metadata": {},
   "source": [
    "#### 7 : Get nodes with age > 25."
   ]
  },
  {
   "cell_type": "code",
   "execution_count": 18,
   "metadata": {},
   "outputs": [
    {
     "data": {
      "text/html": [
       "<div>\n",
       "<style scoped>\n",
       "    .dataframe tbody tr th:only-of-type {\n",
       "        vertical-align: middle;\n",
       "    }\n",
       "\n",
       "    .dataframe tbody tr th {\n",
       "        vertical-align: top;\n",
       "    }\n",
       "\n",
       "    .dataframe thead th {\n",
       "        text-align: right;\n",
       "    }\n",
       "</style>\n",
       "<table border=\"1\" class=\"dataframe\">\n",
       "  <thead>\n",
       "    <tr style=\"text-align: right;\">\n",
       "      <th></th>\n",
       "      <th>Name</th>\n",
       "      <th>Age</th>\n",
       "    </tr>\n",
       "  </thead>\n",
       "  <tbody>\n",
       "    <tr>\n",
       "      <th>0</th>\n",
       "      <td>Person10</td>\n",
       "      <td>26</td>\n",
       "    </tr>\n",
       "    <tr>\n",
       "      <th>1</th>\n",
       "      <td>Person7</td>\n",
       "      <td>27</td>\n",
       "    </tr>\n",
       "    <tr>\n",
       "      <th>2</th>\n",
       "      <td>Person11</td>\n",
       "      <td>28</td>\n",
       "    </tr>\n",
       "    <tr>\n",
       "      <th>3</th>\n",
       "      <td>Person5</td>\n",
       "      <td>28</td>\n",
       "    </tr>\n",
       "    <tr>\n",
       "      <th>4</th>\n",
       "      <td>Person15</td>\n",
       "      <td>26</td>\n",
       "    </tr>\n",
       "    <tr>\n",
       "      <th>5</th>\n",
       "      <td>Person14</td>\n",
       "      <td>26</td>\n",
       "    </tr>\n",
       "    <tr>\n",
       "      <th>6</th>\n",
       "      <td>Person12</td>\n",
       "      <td>26</td>\n",
       "    </tr>\n",
       "    <tr>\n",
       "      <th>7</th>\n",
       "      <td>Person1</td>\n",
       "      <td>30</td>\n",
       "    </tr>\n",
       "    <tr>\n",
       "      <th>8</th>\n",
       "      <td>Person6</td>\n",
       "      <td>30</td>\n",
       "    </tr>\n",
       "    <tr>\n",
       "      <th>9</th>\n",
       "      <td>Person4</td>\n",
       "      <td>26</td>\n",
       "    </tr>\n",
       "    <tr>\n",
       "      <th>10</th>\n",
       "      <td>Person16</td>\n",
       "      <td>28</td>\n",
       "    </tr>\n",
       "  </tbody>\n",
       "</table>\n",
       "</div>"
      ],
      "text/plain": [
       "        Name  Age\n",
       "0   Person10   26\n",
       "1    Person7   27\n",
       "2   Person11   28\n",
       "3    Person5   28\n",
       "4   Person15   26\n",
       "5   Person14   26\n",
       "6   Person12   26\n",
       "7    Person1   30\n",
       "8    Person6   30\n",
       "9    Person4   26\n",
       "10  Person16   28"
      ]
     },
     "execution_count": 18,
     "metadata": {},
     "output_type": "execute_result"
    }
   ],
   "source": [
    "query = \"\"\"\n",
    "        MATCH (p:Person)\n",
    "        WHERE p.age > 25\n",
    "        RETURN p.name AS Name, p.age AS Age\n",
    "        \"\"\"\n",
    "\n",
    "results = graph.run(query).to_data_frame()\n",
    "results"
   ]
  },
  {
   "cell_type": "markdown",
   "metadata": {},
   "source": [
    "## Real world problem:\n",
    "\n",
    "#### 8 : Using the downloaded data in TODO 11 of chapter II, create a collaboration network between authors for papers after 2021 (same author if same name). Insert it in neo4j in a db called \"arxiv\"."
   ]
  },
  {
   "cell_type": "markdown",
   "metadata": {},
   "source": [
    "I couldn't find TODO 11 of chapter II."
   ]
  },
  {
   "cell_type": "markdown",
   "metadata": {},
   "source": [
    "#### 9 : Get the density of degrees of the collaboration network"
   ]
  },
  {
   "cell_type": "code",
   "execution_count": null,
   "metadata": {},
   "outputs": [],
   "source": []
  },
  {
   "cell_type": "markdown",
   "metadata": {},
   "source": [
    "#### 10 : Do a for loop for i in range(500) for each i remove nodes with a degree less than i."
   ]
  },
  {
   "cell_type": "code",
   "execution_count": null,
   "metadata": {},
   "outputs": [],
   "source": []
  },
  {
   "cell_type": "markdown",
   "metadata": {},
   "source": [
    "## Real World application 3\n",
    "\n",
    "You will work again on [pubmed_last_100k.json](https://we.tl/t-6afLCDGRsg). The goal in this homework is to insert collaboration data in Neo4j and then study it using cypher queries. The following questions are meant to guide you through the process."
   ]
  },
  {
   "cell_type": "code",
   "execution_count": 458,
   "metadata": {},
   "outputs": [],
   "source": [
    "graph = py2neo.Graph(\"bolt://localhost:7687\", auth=(\"neo4j\", \"rootuser\"), name=\"pubmed\")"
   ]
  },
  {
   "cell_type": "markdown",
   "metadata": {},
   "source": [
    "#### 1 : Each paper has a list of author and affiliations. The first step is to create a node per author with a list of affiliation as attribute. If a name appears multiple times consider it as a single person. Create an edge between two authors if they are on the same paper. You can use any kind of operation to clean the data before inserting, you decide which preprocessing step is the most convenient."
   ]
  },
  {
   "cell_type": "code",
   "execution_count": 219,
   "metadata": {},
   "outputs": [
    {
     "name": "stdout",
     "output_type": "stream",
     "text": [
      "[{'_id': {'$oid': '60c715b4c4b7559e04fd9d24'},\n",
      "  'pmid': 30006494,\n",
      "  'title': 'Proton pump inhibitors and gastric cancer: association is not '\n",
      "           'causation.',\n",
      "  'ISSN': '1468-3288',\n",
      "  'abstract': None,\n",
      "  'meshwords': 'Anti-Ulcer Agents \\n'\n",
      "               'Helicobacter pylori \\n'\n",
      "               'Humans \\n'\n",
      "               'Proton Pump Inhibitors \\n'\n",
      "               'Stomach Neoplasms ',\n",
      "  'meshsubwords': '',\n",
      "  'authors': 'name ml Moayyedi P, affil str Division of Gastroenterology and '\n",
      "             'Farncombe Family Digestive Health Research Institute, McMaster '\n",
      "             'University, Hamilton, Ontario, Canada.\\n'\n",
      "             'name ml Veldhuyzen van Zanten SJO, affil str Division of '\n",
      "             'Gastroenterology, University of Alberta, Edmonton, Alberta, '\n",
      "             'Canada.\\n'\n",
      "             'name ml Hookey L, affil str Division of Gastroenterology, '\n",
      "             \"Queen\\\\'s University, Kingston, Ontario, Canada.\\n\"\n",
      "             'name ml Armstrong D, affil str Division of Gastroenterology and '\n",
      "             'Farncombe Family Digestive Health Research Institute, McMaster '\n",
      "             'University, Hamilton, Ontario, Canada.\\n'\n",
      "             'name ml Jones N, affil str Division of Gastroenterology, '\n",
      "             'Hepatology, and Nutrition, The Hospital for Sick Children, '\n",
      "             'Toronto, Ontario, Canada.; Department of Paediatrics, University '\n",
      "             'of Toronto, Toronto, Ontario, Canada.; Department of Physiology, '\n",
      "             'University of Toronto, Toronto, Ontario, Canada.\\n'\n",
      "             'name ml Leontiadis GI, affil str Division of Gastroenterology '\n",
      "             'and Farncombe Family Digestive Health Research Institute, '\n",
      "             'McMaster University, Hamilton, Ontario, Canada.',\n",
      "  'source': 'journal: \"Gut\" ',\n",
      "  'grants': None,\n",
      "  'date': 'year 2018, month 7, day 15, hour 6, minute 0',\n",
      "  'date_received': 'year 2019, month 6, day 9',\n",
      "  'date_accepted': 'year 2019, month 6, day 24',\n",
      "  'date_medline': 'year 2019, month 8, day 15, hour 6, minute 0',\n",
      "  'doi': '10.1136/gutjnl-2018-316958',\n",
      "  'unix': 1531605600,\n",
      "  'unix_received': 1560031200,\n",
      "  'unix_accepted': 1561327200,\n",
      "  'unix_medline': 1565820000,\n",
      "  'team_size': 6,\n",
      "  'share_aff_captured': 1,\n",
      "  'is_eu': 0,\n",
      "  'inter_collab': 0,\n",
      "  'is_coronavirus_lower': 0,\n",
      "  'nb_country': 1,\n",
      "  'country_list': 'Canada'}]\n"
     ]
    }
   ],
   "source": [
    "with open(data_dir+'pubmed_cleaned.json', 'r') as fp:\n",
    "    papers = json.load(fp)\n",
    "\n",
    "pprint(papers[:1], sort_dicts=False)"
   ]
  },
  {
   "cell_type": "code",
   "execution_count": 100,
   "metadata": {},
   "outputs": [],
   "source": [
    "def organize_papers(papers):\n",
    "    organized_papers = {}\n",
    "    for paper in tqdm(papers, desc=\"Reorganizing information):\n",
    "        paper_id = paper['_id']['$oid']\n",
    "        organized_paper = {\n",
    "            \"team_size\": paper.get(\"team_size\", 0),\n",
    "            \"nb_country\": paper.get(\"nb_country\", 0),\n",
    "            \"country_list\": paper.get(\"country_list\", \"\"),\n",
    "            \"authors\": {}\n",
    "        }\n",
    "        authors_info = paper.get(\"authors\", \"\")\n",
    "        authors_entries = authors_info.split('\\n')\n",
    "\n",
    "        for entry in authors_entries:\n",
    "            if entry.strip():\n",
    "                split_entry = entry.split(', affil str')\n",
    "                if len(split_entry) < 2:\n",
    "                    continue\n",
    "                name_part = split_entry[0].strip()\n",
    "                author_name = name_part.replace('name ml ', '').strip()\n",
    "                affiliations_part = split_entry[1].strip()\n",
    "                affiliations = [affil.strip() for affil in affiliations_part.split(';')]\n",
    "                \n",
    "                organized_paper[\"authors\"][author_name] = {\n",
    "                    \"nb_affiliations\": len(affiliations),\n",
    "                    \"affiliations\": affiliations\n",
    "                }\n",
    "        organized_papers[paper_id] = organized_paper\n",
    "    return organized_papers\n",
    "\n",
    "def build_author_nodes(organized_papers):\n",
    "    for paper_id, paper_details in tqdm(organized_papers.items(), desc=\"Creating Author Nodes\"):\n",
    "        authors = paper_details['authors']\n",
    "        author_nodes = {}\n",
    "\n",
    "        for author_name, details in authors.items():\n",
    "            author_node = graph.nodes.match(\"Author\", name=author_name).first()\n",
    "            if not author_node:\n",
    "                author_node = Node(\"Author\", name=author_name, nb_affiliations=details[\"nb_affiliations\"], affiliations=details[\"affiliations\"])\n",
    "                graph.create(author_node)\n",
    "            author_nodes[author_name] = author_node\n",
    "\n",
    "        author_names = list(authors.keys())\n",
    "        for i in range(len(author_names)):\n",
    "            for j in range(i + 1, len(author_names)):\n",
    "                author1 = author_nodes[author_names[i]]\n",
    "                author2 = author_nodes[author_names[j]]\n",
    "\n",
    "                rel = graph.relationships.match((author1, author2), \"COAUTHORED\").first()\n",
    "                if rel:\n",
    "                    rel['collaborations'] = rel.get('collaborations', 1) + 1\n",
    "                    graph.push(rel)\n",
    "                else:\n",
    "                    rel = Relationship(author1, \"COAUTHORED\", author2, collaborations=1)\n",
    "                    graph.create(rel)\n",
    "                    \n",
    "                rel_reverse = graph.relationships.match((author2, author1), \"COAUTHORED\").first()\n",
    "                if rel_reverse:\n",
    "                    rel_reverse['collaborations'] = rel_reverse.get('collaborations', 1) + 1\n",
    "                    graph.push(rel_reverse)\n",
    "                else:\n",
    "                    rel_reverse = Relationship(author2, \"COAUTHORED\", author1, collaborations=1)\n",
    "                    graph.create(rel_reverse)\n",
    "\n",
    "def create_paper_nodes(papers):\n",
    "    for paper in tqdm(papers[:10_000], desc=\"Creating Paper Nodes\"):\n",
    "        properties = {\n",
    "            'id': paper['_id']['$oid'], \n",
    "            'title': paper.get('title', 'No title provided'),\n",
    "            'pmid': paper.get('pmid', None),\n",
    "            'nb_country': paper.get('nb_country', None),\n",
    "            'country_list': paper.get('country_list',None)\n",
    "        }\n",
    "        query = \"\"\"\n",
    "                MERGE (p:Paper {id: $id})\n",
    "                ON CREATE SET p += $properties\n",
    "                \"\"\"\n",
    "        graph.run(query, id=properties['id'], properties=properties)"
   ]
  },
  {
   "cell_type": "code",
   "execution_count": 4,
   "metadata": {},
   "outputs": [
    {
     "name": "stderr",
     "output_type": "stream",
     "text": [
      "100%|████████████████████████████████████████████████████████████████████████████| 10000/10000 [40:46<00:00,  4.09it/s]\n"
     ]
    }
   ],
   "source": [
    "organized_papers = organize_papers(papers[:10_000])\n",
    "build_author_nodes(organized_papers)\n",
    "create_paper_nodes(papers)"
   ]
  },
  {
   "cell_type": "markdown",
   "metadata": {},
   "source": [
    "#### 2 : How many authors have more than 2 affiliations ?"
   ]
  },
  {
   "cell_type": "code",
   "execution_count": 97,
   "metadata": {},
   "outputs": [
    {
     "name": "stdout",
     "output_type": "stream",
     "text": [
      "1282 authors have more than 2 affiliations\n"
     ]
    }
   ],
   "source": [
    "query = \"\"\"\n",
    "        MATCH (a:Author)\n",
    "        WHERE size(a.affiliations) > 2\n",
    "        RETURN a.name AS AuthorName, a.affiliations AS Affiliations, size(a.affiliations) AS nb_affil\n",
    "        \"\"\"\n",
    "\n",
    "results = graph.run(query).to_data_frame()\n",
    "print(len(results), \"authors have more than 2 affiliations\")"
   ]
  },
  {
   "cell_type": "markdown",
   "metadata": {},
   "source": [
    "#### 3 : Create a density of node degrees. Do you observe a power scale law ? What does it mean ?"
   ]
  },
  {
   "cell_type": "code",
   "execution_count": 461,
   "metadata": {},
   "outputs": [
    {
     "data": {
      "image/png": "[encoded data removed]",
      "text/plain": [
       "<Figure size 500x300 with 1 Axes>"
      ]
     },
     "metadata": {},
     "output_type": "display_data"
    }
   ],
   "source": [
    "query = \"\"\"\n",
    "        MATCH (a:Author)-[:COAUTHORED]-()\n",
    "        RETURN a.name AS Author, count(*) AS Degree\n",
    "        ORDER BY Degree DESC\n",
    "        \"\"\"\n",
    "\n",
    "results = graph.run(query).to_data_frame()\n",
    "\n",
    "degrees = results['Degree'].tolist()\n",
    "degrees = [x if np.isfinite(x) else np.nan for x in degrees]\n",
    "degrees = [x for x in degrees if not pd.isna(x)]  # Remove NaN values that were originally inf\n",
    "\n",
    "\n",
    "with warnings.catch_warnings():\n",
    "    warnings.simplefilter(\"ignore\")\n",
    "    logbins = np.logspace(np.log10(min(degrees)), np.log10(max(degrees)), 50)\n",
    "    plt.figure(figsize=(5, 3))\n",
    "    sns.histplot(degrees, bins=logbins, kde=False, color=\"blue\", stat=\"density\")\n",
    "    plt.xscale('log')\n",
    "    plt.yscale('log')\n",
    "    plt.title('Degree Distribution', fontsize=10)\n",
    "    plt.xlabel('Degree', fontsize=8)\n",
    "    plt.ylabel('Density', fontsize=8)\n",
    "    plt.xticks(fontsize=6)\n",
    "    plt.yticks(fontsize=6)\n",
    "    plt.tight_layout()\n",
    "    plt.show()"
   ]
  },
  {
   "cell_type": "markdown",
   "metadata": {},
   "source": [
    "The distribution seemingly follows a power law"
   ]
  },
  {
   "cell_type": "markdown",
   "metadata": {},
   "source": [
    "#### 4 : Which country has seen the most international collaboration ?"
   ]
  },
  {
   "cell_type": "code",
   "execution_count": 102,
   "metadata": {},
   "outputs": [
    {
     "name": "stdout",
     "output_type": "stream",
     "text": [
      "The country with the most international collaborations is United States, with a total of 956 collaborations.\n"
     ]
    }
   ],
   "source": [
    "query = \"\"\"\n",
    "        MATCH (p:Paper)\n",
    "        WHERE p.nb_country > 1\n",
    "        UNWIND split(p.country_list, ';') AS country\n",
    "        WITH country, count(p) AS collaborations\n",
    "        RETURN country, collaborations\n",
    "        ORDER BY collaborations DESC\n",
    "        LIMIT 1\n",
    "        \"\"\"\n",
    "\n",
    "result = graph.run(query).data()[0]\n",
    "pays = result['country']\n",
    "collab = result['collaborations']\n",
    "\n",
    "print(f\"The country with the most international collaborations is {pays}, with a total of {collab} collaborations.\")"
   ]
  },
  {
   "cell_type": "markdown",
   "metadata": {},
   "source": [
    "#### 5 : Who are the top 10 collaborators and what is their affiliation ?"
   ]
  },
  {
   "cell_type": "code",
   "execution_count": 103,
   "metadata": {},
   "outputs": [
    {
     "data": {
      "text/html": [
       "<div>\n",
       "<style scoped>\n",
       "    .dataframe tbody tr th:only-of-type {\n",
       "        vertical-align: middle;\n",
       "    }\n",
       "\n",
       "    .dataframe tbody tr th {\n",
       "        vertical-align: top;\n",
       "    }\n",
       "\n",
       "    .dataframe thead th {\n",
       "        text-align: right;\n",
       "    }\n",
       "</style>\n",
       "<table border=\"1\" class=\"dataframe\">\n",
       "  <thead>\n",
       "    <tr style=\"text-align: right;\">\n",
       "      <th></th>\n",
       "      <th>Author</th>\n",
       "      <th>Collaborations</th>\n",
       "      <th>Affiliations</th>\n",
       "    </tr>\n",
       "  </thead>\n",
       "  <tbody>\n",
       "    <tr>\n",
       "      <th>0</th>\n",
       "      <td>Wang Y</td>\n",
       "      <td>1242</td>\n",
       "      <td>[1Department of Critical Care Medicine, Second Affiliated Hospital, Zhejiang University School of Medicine, Hangzhou, Zhejiang 310009 People\\'s Republic of China.]</td>\n",
       "    </tr>\n",
       "    <tr>\n",
       "      <th>1</th>\n",
       "      <td>Zhang Y</td>\n",
       "      <td>1000</td>\n",
       "      <td>[1Guangdong Provincial Key Laboratory of Malignant Tumor Epigenetics and Gene Regulation, Medical Research Center, Sun Yat-Sen Memorial Hospital, Sun Yat-Sen University, Guangzhou, 510120 China.]</td>\n",
       "    </tr>\n",
       "    <tr>\n",
       "      <th>2</th>\n",
       "      <td>Li Y</td>\n",
       "      <td>960</td>\n",
       "      <td>[1Guangdong Provincial Key Laboratory of Malignant Tumor Epigenetics and Gene Regulation, Medical Research Center, Sun Yat-Sen Memorial Hospital, Sun Yat-Sen University, Guangzhou, 510120 China.]</td>\n",
       "    </tr>\n",
       "    <tr>\n",
       "      <th>3</th>\n",
       "      <td>Wang X</td>\n",
       "      <td>934</td>\n",
       "      <td>[From the Key Laboratory of Neuroregeneration of Jiangsu and Ministry of Education, Co-innovation Center of Neuroregeneration, Nantong University, Nanjing, Jiangsu 226001, China.]</td>\n",
       "    </tr>\n",
       "    <tr>\n",
       "      <th>4</th>\n",
       "      <td>Wang J</td>\n",
       "      <td>890</td>\n",
       "      <td>[Departments of Nuclear Engineering &amp; Materials Science and Engineering, University of California at Berkeley, Berkeley, CA 94720, USA. wangjiaming@fudan.edu.cn.]</td>\n",
       "    </tr>\n",
       "    <tr>\n",
       "      <th>5</th>\n",
       "      <td>Liu Y</td>\n",
       "      <td>830</td>\n",
       "      <td>[Hubei Key Laboratory of Animal Nutrition and Feed Science, Hubei Collaborative Innovation Center for Animal Nutrition and Feed Safety, Wuhan Polytechnic University, Wuhan 430023, China. yulanflower@126.com.]</td>\n",
       "    </tr>\n",
       "    <tr>\n",
       "      <th>6</th>\n",
       "      <td>Li J</td>\n",
       "      <td>760</td>\n",
       "      <td>[Department of Hematology, Peking Union Medical College Hospital, Chinese Academy of Medical Sciences &amp; Peking Union Medical College, 1 Shuai Fu Yuan Hu Tong, Dongcheng District, Beijing, 100730 People\\'s Republic of China.]</td>\n",
       "    </tr>\n",
       "    <tr>\n",
       "      <th>7</th>\n",
       "      <td>Zhang J</td>\n",
       "      <td>746</td>\n",
       "      <td>[Institute of Sports Medicine, Peking University Third Hospital, Beijing Key Laboratory of Sports Injuries, 49 North Garden Road, Haidian District, Beijing, 100191, People\\'s Republic of China.]</td>\n",
       "    </tr>\n",
       "    <tr>\n",
       "      <th>8</th>\n",
       "      <td>Zhang L</td>\n",
       "      <td>738</td>\n",
       "      <td>[Department of Hematology, Peking Union Medical College Hospital, Chinese Academy of Medical Sciences &amp; Peking Union Medical College, 1 Shuai Fu Yuan Hu Tong, Dongcheng District, Beijing, 100730 People\\'s Republic of China.]</td>\n",
       "    </tr>\n",
       "    <tr>\n",
       "      <th>9</th>\n",
       "      <td>Zhang X</td>\n",
       "      <td>732</td>\n",
       "      <td>[Institute of Sports Medicine, Peking University Third Hospital, Beijing Key Laboratory of Sports Injuries, 49 North Garden Road, Haidian District, Beijing, 100191, People\\'s Republic of China.]</td>\n",
       "    </tr>\n",
       "  </tbody>\n",
       "</table>\n",
       "</div>"
      ],
      "text/plain": [
       "    Author  Collaborations  \\\n",
       "0   Wang Y            1242   \n",
       "1  Zhang Y            1000   \n",
       "2     Li Y             960   \n",
       "3   Wang X             934   \n",
       "4   Wang J             890   \n",
       "5    Liu Y             830   \n",
       "6     Li J             760   \n",
       "7  Zhang J             746   \n",
       "8  Zhang L             738   \n",
       "9  Zhang X             732   \n",
       "\n",
       "                                                                                                                                                                                                                       Affiliations  \n",
       "0                                                               [1Department of Critical Care Medicine, Second Affiliated Hospital, Zhejiang University School of Medicine, Hangzhou, Zhejiang 310009 People\\'s Republic of China.]  \n",
       "1                               [1Guangdong Provincial Key Laboratory of Malignant Tumor Epigenetics and Gene Regulation, Medical Research Center, Sun Yat-Sen Memorial Hospital, Sun Yat-Sen University, Guangzhou, 510120 China.]  \n",
       "2                               [1Guangdong Provincial Key Laboratory of Malignant Tumor Epigenetics and Gene Regulation, Medical Research Center, Sun Yat-Sen Memorial Hospital, Sun Yat-Sen University, Guangzhou, 510120 China.]  \n",
       "3                                               [From the Key Laboratory of Neuroregeneration of Jiangsu and Ministry of Education, Co-innovation Center of Neuroregeneration, Nantong University, Nanjing, Jiangsu 226001, China.]  \n",
       "4                                                                [Departments of Nuclear Engineering & Materials Science and Engineering, University of California at Berkeley, Berkeley, CA 94720, USA. wangjiaming@fudan.edu.cn.]  \n",
       "5                  [Hubei Key Laboratory of Animal Nutrition and Feed Science, Hubei Collaborative Innovation Center for Animal Nutrition and Feed Safety, Wuhan Polytechnic University, Wuhan 430023, China. yulanflower@126.com.]  \n",
       "6  [Department of Hematology, Peking Union Medical College Hospital, Chinese Academy of Medical Sciences & Peking Union Medical College, 1 Shuai Fu Yuan Hu Tong, Dongcheng District, Beijing, 100730 People\\'s Republic of China.]  \n",
       "7                                [Institute of Sports Medicine, Peking University Third Hospital, Beijing Key Laboratory of Sports Injuries, 49 North Garden Road, Haidian District, Beijing, 100191, People\\'s Republic of China.]  \n",
       "8  [Department of Hematology, Peking Union Medical College Hospital, Chinese Academy of Medical Sciences & Peking Union Medical College, 1 Shuai Fu Yuan Hu Tong, Dongcheng District, Beijing, 100730 People\\'s Republic of China.]  \n",
       "9                                [Institute of Sports Medicine, Peking University Third Hospital, Beijing Key Laboratory of Sports Injuries, 49 North Garden Road, Haidian District, Beijing, 100191, People\\'s Republic of China.]  "
      ]
     },
     "execution_count": 103,
     "metadata": {},
     "output_type": "execute_result"
    }
   ],
   "source": [
    "query = \"\"\"\n",
    "        MATCH (a:Author)-[:COAUTHORED]-()\n",
    "        WITH a, count(*) AS collaborations\n",
    "        RETURN a.name AS Author, collaborations AS Collaborations, a.affiliations AS Affiliations\n",
    "        ORDER BY collaborations DESC\n",
    "        LIMIT 10\n",
    "        \"\"\"\n",
    "\n",
    "results = graph.run(query).to_data_frame()\n",
    "pd.set_option('display.max_colwidth', None)\n",
    "results"
   ]
  },
  {
   "cell_type": "markdown",
   "metadata": {},
   "source": [
    "#### 6 : Sandbox exercise: What are the titles of the 10 papers that involved the highest number of collaborating countries?"
   ]
  },
  {
   "cell_type": "code",
   "execution_count": 393,
   "metadata": {},
   "outputs": [
    {
     "data": {
      "text/html": [
       "<style type=\"text/css\">\n",
       "#T_d7d0b th {\n",
       "  text-align: center;\n",
       "}\n",
       "#T_d7d0b_row0_col0, #T_d7d0b_row0_col1, #T_d7d0b_row0_col2, #T_d7d0b_row1_col0, #T_d7d0b_row1_col1, #T_d7d0b_row1_col2, #T_d7d0b_row2_col0, #T_d7d0b_row2_col1, #T_d7d0b_row2_col2, #T_d7d0b_row3_col0, #T_d7d0b_row3_col1, #T_d7d0b_row3_col2, #T_d7d0b_row4_col0, #T_d7d0b_row4_col1, #T_d7d0b_row4_col2, #T_d7d0b_row5_col0, #T_d7d0b_row5_col1, #T_d7d0b_row5_col2, #T_d7d0b_row6_col0, #T_d7d0b_row6_col1, #T_d7d0b_row6_col2, #T_d7d0b_row7_col0, #T_d7d0b_row7_col1, #T_d7d0b_row7_col2, #T_d7d0b_row8_col0, #T_d7d0b_row8_col1, #T_d7d0b_row8_col2, #T_d7d0b_row9_col0, #T_d7d0b_row9_col1, #T_d7d0b_row9_col2 {\n",
       "  text-align: left;\n",
       "}\n",
       "</style>\n",
       "<table id=\"T_d7d0b\">\n",
       "  <thead>\n",
       "    <tr>\n",
       "      <th class=\"blank level0\" >&nbsp;</th>\n",
       "      <th id=\"T_d7d0b_level0_col0\" class=\"col_heading level0 col0\" >Title</th>\n",
       "      <th id=\"T_d7d0b_level0_col1\" class=\"col_heading level0 col1\" >CountryList</th>\n",
       "      <th id=\"T_d7d0b_level0_col2\" class=\"col_heading level0 col2\" >nbCountry</th>\n",
       "    </tr>\n",
       "  </thead>\n",
       "  <tbody>\n",
       "    <tr>\n",
       "      <th id=\"T_d7d0b_level0_row0\" class=\"row_heading level0 row0\" >0</th>\n",
       "      <td id=\"T_d7d0b_row0_col0\" class=\"data row0 col0\" >Clustering of Multiple Energy Balance-Related Behaviors in School Children and its Association with Overweight and Obesity-WHO European Childhood Obesity Surveillance Initiative (COSI 2015(-)2017).</td>\n",
       "      <td id=\"T_d7d0b_row0_col1\" class=\"data row0 col1\" >Montenegro / Turkmenistan / Albania / United Kingdom / Ireland / Russia / Kazakhstan / Portugal / Bulgaria / Malta / Lithuania / Poland / Croatia / Romania / Denmark / Spain / Georgia</td>\n",
       "      <td id=\"T_d7d0b_row0_col2\" class=\"data row0 col2\" >17</td>\n",
       "    </tr>\n",
       "    <tr>\n",
       "      <th id=\"T_d7d0b_level0_row1\" class=\"row_heading level0 row1\" >1</th>\n",
       "      <td id=\"T_d7d0b_row1_col0\" class=\"data row1 col0\" >2018 APLAR axial spondyloarthritis treatment recommendations.</td>\n",
       "      <td id=\"T_d7d0b_row1_col1\" class=\"data row1 col1\" >Thailand / New Zealand / India / Taiwan / Iran / Australia / Philippines / Singapore / Malaysia / South Korea / Japan / China</td>\n",
       "      <td id=\"T_d7d0b_row1_col2\" class=\"data row1 col2\" >12</td>\n",
       "    </tr>\n",
       "    <tr>\n",
       "      <th id=\"T_d7d0b_level0_row2\" class=\"row_heading level0 row2\" >2</th>\n",
       "      <td id=\"T_d7d0b_row2_col0\" class=\"data row2 col0\" >Over 675,000 lay people trained in cardiopulmonary resuscitation worldwide - The World Restart a Heart (WRAH) initiative 2018.</td>\n",
       "      <td id=\"T_d7d0b_row2_col1\" class=\"data row2 col1\" >United Kingdom / United States / Canada / New Zealand / Germany / Cyprus / India / Taiwan / Finland / Singapore / South Africa / Peru</td>\n",
       "      <td id=\"T_d7d0b_row2_col2\" class=\"data row2 col2\" >12</td>\n",
       "    </tr>\n",
       "    <tr>\n",
       "      <th id=\"T_d7d0b_level0_row3\" class=\"row_heading level0 row3\" >3</th>\n",
       "      <td id=\"T_d7d0b_row3_col0\" class=\"data row3 col0\" >Safety of red yeast rice supplementation: A systematic review and meta-analysis of randomized controlled trials.</td>\n",
       "      <td id=\"T_d7d0b_row3_col1\" class=\"data row3 col1\" >United Kingdom / France / United States / Canada / Italy / Australia / Ukraine / Iran / Slovenia / Poland / Croatia / Slovakia</td>\n",
       "      <td id=\"T_d7d0b_row3_col2\" class=\"data row3 col2\" >12</td>\n",
       "    </tr>\n",
       "    <tr>\n",
       "      <th id=\"T_d7d0b_level0_row4\" class=\"row_heading level0 row4\" >4</th>\n",
       "      <td id=\"T_d7d0b_row4_col0\" class=\"data row4 col0\" >Gynecological Cancers Translational, Research Implementation, and Harmonization: Gynecologic Cancer InterGroup Consensus and Still Open Questions.</td>\n",
       "      <td id=\"T_d7d0b_row4_col1\" class=\"data row4 col1\" >Netherlands / United Kingdom / Belgium / France / United States / Canada / Germany / Italy / Australia / Austria / Japan / China</td>\n",
       "      <td id=\"T_d7d0b_row4_col2\" class=\"data row4 col2\" >12</td>\n",
       "    </tr>\n",
       "    <tr>\n",
       "      <th id=\"T_d7d0b_level0_row5\" class=\"row_heading level0 row5\" >5</th>\n",
       "      <td id=\"T_d7d0b_row5_col0\" class=\"data row5 col0\" >2018 update of the APLAR recommendations for treatment of rheumatoid arthritis.</td>\n",
       "      <td id=\"T_d7d0b_row5_col1\" class=\"data row5 col1\" >Indonesia / Thailand / New Zealand / India / Taiwan / Australia / Philippines / Singapore / Malaysia / South Korea / Japan / China</td>\n",
       "      <td id=\"T_d7d0b_row5_col2\" class=\"data row5 col2\" >12</td>\n",
       "    </tr>\n",
       "    <tr>\n",
       "      <th id=\"T_d7d0b_level0_row6\" class=\"row_heading level0 row6\" >6</th>\n",
       "      <td id=\"T_d7d0b_row6_col0\" class=\"data row6 col0\" >Management of acute promyelocytic leukemia: updated recommendations from an expert panel of the European LeukemiaNet.</td>\n",
       "      <td id=\"T_d7d0b_row6_col1\" class=\"data row6 col1\" >Netherlands / United Kingdom / France / United States / Germany / India / Italy / Australia / Spain / Japan / China</td>\n",
       "      <td id=\"T_d7d0b_row6_col2\" class=\"data row6 col2\" >11</td>\n",
       "    </tr>\n",
       "    <tr>\n",
       "      <th id=\"T_d7d0b_level0_row7\" class=\"row_heading level0 row7\" >7</th>\n",
       "      <td id=\"T_d7d0b_row7_col0\" class=\"data row7 col0\" >First-line afatinib vs gefitinib for patients with EGFR mutation-positive NSCLC (LUX-Lung 7): impact of afatinib dose adjustment and analysis of mode of initial progression for patients who continued treatment beyond progression.</td>\n",
       "      <td id=\"T_d7d0b_row7_col1\" class=\"data row7 col1\" >United Kingdom / Canada / France / Germany / Australia / Taiwan / Singapore / Sweden / Spain / South Korea / China</td>\n",
       "      <td id=\"T_d7d0b_row7_col2\" class=\"data row7 col2\" >11</td>\n",
       "    </tr>\n",
       "    <tr>\n",
       "      <th id=\"T_d7d0b_level0_row8\" class=\"row_heading level0 row8\" >8</th>\n",
       "      <td id=\"T_d7d0b_row8_col0\" class=\"data row8 col0\" >European Crohn\\'s and Colitis Organisation Topical Review on Complementary Medicine and Psychotherapy in Inflammatory Bowel Disease.</td>\n",
       "      <td id=\"T_d7d0b_row8_col1\" class=\"data row8 col1\" >Netherlands / Norway / Portugal / Germany / Greece / Italy / Australia / Malta / Austria / Switzerland / Spain</td>\n",
       "      <td id=\"T_d7d0b_row8_col2\" class=\"data row8 col2\" >11</td>\n",
       "    </tr>\n",
       "    <tr>\n",
       "      <th id=\"T_d7d0b_level0_row9\" class=\"row_heading level0 row9\" >9</th>\n",
       "      <td id=\"T_d7d0b_row9_col0\" class=\"data row9 col0\" >Association between the timing of surgery for complicated, left-sided infective endocarditis and survival.</td>\n",
       "      <td id=\"T_d7d0b_row9_col1\" class=\"data row9 col1\" >Ireland / United States / France / Argentina / Greece / Brazil / Australia / Italy / Croatia / Spain / Israel</td>\n",
       "      <td id=\"T_d7d0b_row9_col2\" class=\"data row9 col2\" >11</td>\n",
       "    </tr>\n",
       "  </tbody>\n",
       "</table>\n"
      ],
      "text/plain": [
       "<pandas.io.formats.style.Styler at 0x1d119ceb390>"
      ]
     },
     "execution_count": 393,
     "metadata": {},
     "output_type": "execute_result"
    }
   ],
   "source": [
    "query = \"\"\"\n",
    "        MATCH (p:Paper)\n",
    "        RETURN p.title AS Title, p.country_list AS CountryList, p.nb_country AS nbCountry\n",
    "        ORDER BY p.nb_country DESC\n",
    "        LIMIT 10;\n",
    "        \"\"\"\n",
    "\n",
    "result = graph.run(query).to_data_frame()\n",
    "result['CountryList'] = result['CountryList'].apply(lambda x: ' / '.join(x.split(';')))\n",
    "\n",
    "pd.set_option('display.width', None)\n",
    "pd.set_option('display.max_colwidth', 230)\n",
    "clean_df = result.style.set_properties(**{\n",
    "                            'text-align': 'left'}\n",
    "           ).set_table_styles([{\n",
    "                            'selector': 'th', 'props': [('text-align', 'center')]}\n",
    "          ])\n",
    "clean_df"
   ]
  },
  {
   "cell_type": "markdown",
   "metadata": {},
   "source": [
    "## Real World application 4\n",
    "\n",
    "change the database \"neo4j\" to the database \"movie\". Go to the browser and run on the browser console :play movie-graph then copy the queries on the console and run it. Congrats you just imported a brand new sample of data. Answer the following questions with cypher queries.\n",
    "\n",
    "#### 1 : How many actors played in more than 2 movie ? Get their names and year they were born."
   ]
  },
  {
   "cell_type": "code",
   "execution_count": 395,
   "metadata": {},
   "outputs": [
    {
     "data": {
      "text/html": [
       "<div>\n",
       "<style scoped>\n",
       "    .dataframe tbody tr th:only-of-type {\n",
       "        vertical-align: middle;\n",
       "    }\n",
       "\n",
       "    .dataframe tbody tr th {\n",
       "        vertical-align: top;\n",
       "    }\n",
       "\n",
       "    .dataframe thead th {\n",
       "        text-align: right;\n",
       "    }\n",
       "</style>\n",
       "<table border=\"1\" class=\"dataframe\">\n",
       "  <thead>\n",
       "    <tr style=\"text-align: right;\">\n",
       "      <th></th>\n",
       "      <th>Actor</th>\n",
       "      <th>Birth_Year</th>\n",
       "      <th>movies_count</th>\n",
       "    </tr>\n",
       "  </thead>\n",
       "  <tbody>\n",
       "    <tr>\n",
       "      <th>0</th>\n",
       "      <td>Tom Hanks</td>\n",
       "      <td>1956</td>\n",
       "      <td>9</td>\n",
       "    </tr>\n",
       "    <tr>\n",
       "      <th>1</th>\n",
       "      <td>Keanu Reeves</td>\n",
       "      <td>1964</td>\n",
       "      <td>7</td>\n",
       "    </tr>\n",
       "    <tr>\n",
       "      <th>2</th>\n",
       "      <td>Hugo Weaving</td>\n",
       "      <td>1960</td>\n",
       "      <td>5</td>\n",
       "    </tr>\n",
       "    <tr>\n",
       "      <th>3</th>\n",
       "      <td>Meg Ryan</td>\n",
       "      <td>1961</td>\n",
       "      <td>5</td>\n",
       "    </tr>\n",
       "    <tr>\n",
       "      <th>4</th>\n",
       "      <td>Jack Nicholson</td>\n",
       "      <td>1937</td>\n",
       "      <td>4</td>\n",
       "    </tr>\n",
       "    <tr>\n",
       "      <th>...</th>\n",
       "      <td>...</td>\n",
       "      <td>...</td>\n",
       "      <td>...</td>\n",
       "    </tr>\n",
       "    <tr>\n",
       "      <th>6</th>\n",
       "      <td>Carrie-Anne Moss</td>\n",
       "      <td>1967</td>\n",
       "      <td>3</td>\n",
       "    </tr>\n",
       "    <tr>\n",
       "      <th>7</th>\n",
       "      <td>Cuba Gooding Jr.</td>\n",
       "      <td>1968</td>\n",
       "      <td>3</td>\n",
       "    </tr>\n",
       "    <tr>\n",
       "      <th>8</th>\n",
       "      <td>Robin Williams</td>\n",
       "      <td>1951</td>\n",
       "      <td>3</td>\n",
       "    </tr>\n",
       "    <tr>\n",
       "      <th>9</th>\n",
       "      <td>Gene Hackman</td>\n",
       "      <td>1930</td>\n",
       "      <td>3</td>\n",
       "    </tr>\n",
       "    <tr>\n",
       "      <th>10</th>\n",
       "      <td>Ben Miles</td>\n",
       "      <td>1967</td>\n",
       "      <td>3</td>\n",
       "    </tr>\n",
       "  </tbody>\n",
       "</table>\n",
       "<p>11 rows × 3 columns</p>\n",
       "</div>"
      ],
      "text/plain": [
       "               Actor  Birth_Year  movies_count\n",
       "0          Tom Hanks        1956             9\n",
       "1       Keanu Reeves        1964             7\n",
       "2       Hugo Weaving        1960             5\n",
       "3           Meg Ryan        1961             5\n",
       "4     Jack Nicholson        1937             4\n",
       "..               ...         ...           ...\n",
       "6   Carrie-Anne Moss        1967             3\n",
       "7   Cuba Gooding Jr.        1968             3\n",
       "8     Robin Williams        1951             3\n",
       "9       Gene Hackman        1930             3\n",
       "10         Ben Miles        1967             3\n",
       "\n",
       "[11 rows x 3 columns]"
      ]
     },
     "execution_count": 395,
     "metadata": {},
     "output_type": "execute_result"
    }
   ],
   "source": [
    "graph = py2neo.Graph(\"bolt://localhost:7687\", auth=(\"root\", \"rootuser\"))\n",
    "\n",
    "query = \"\"\"\n",
    "        MATCH (a:Person)-[:ACTED_IN]->(m:Movie)\n",
    "        WITH a, count(m) AS movies_count\n",
    "        WHERE movies_count > 2\n",
    "        RETURN a.name AS Actor, a.born AS Birth_Year, movies_count\n",
    "        ORDER BY movies_count DESC\n",
    "        \"\"\"\n",
    "results = graph.run(query).to_data_frame()\n",
    "results"
   ]
  },
  {
   "cell_type": "markdown",
   "metadata": {},
   "source": [
    "#### 2 : In how many movies did Tom hanks play ?"
   ]
  },
  {
   "cell_type": "code",
   "execution_count": 144,
   "metadata": {},
   "outputs": [
    {
     "name": "stdout",
     "output_type": "stream",
     "text": [
      "Tom Hanks played in 12 movies\n"
     ]
    }
   ],
   "source": [
    "query = \"\"\"\n",
    "        MATCH (p:Person {name: \"Tom Hanks\"})-[:ACTED_IN]->(m:Movie)\n",
    "        RETURN count(m) AS nb_movies\n",
    "        \"\"\"\n",
    "\n",
    "results = graph.run(query).to_data_frame()\n",
    "print(\"Tom Hanks played in\", results['nb_movies'][0], \"movies\")"
   ]
  },
  {
   "cell_type": "markdown",
   "metadata": {},
   "source": [
    "#### 3 : In average in how many movies do actors play in ?"
   ]
  },
  {
   "cell_type": "code",
   "execution_count": 160,
   "metadata": {},
   "outputs": [
    {
     "name": "stdout",
     "output_type": "stream",
     "text": [
      "On average, actors play in 1.7 movies\n"
     ]
    }
   ],
   "source": [
    "query = \"\"\"\n",
    "        MATCH (p:Person)-[:ACTED_IN]->(m:Movie)\n",
    "        WITH p, count(m) AS movie_count\n",
    "        RETURN avg(movie_count) AS avg_movies_played\n",
    "        \"\"\"\n",
    "\n",
    "results = graph.run(query).to_data_frame()\n",
    "print(\"On average, actors play in\", round(results['avg_movies_played'][0],1), \"movies\")"
   ]
  },
  {
   "cell_type": "markdown",
   "metadata": {},
   "source": [
    "#### 4 : In average how many actors are there in a movie ?"
   ]
  },
  {
   "cell_type": "code",
   "execution_count": 161,
   "metadata": {},
   "outputs": [
    {
     "name": "stdout",
     "output_type": "stream",
     "text": [
      "On average, 4.5 actors play in a movie\n"
     ]
    }
   ],
   "source": [
    "query = \"\"\"\n",
    "        MATCH (p:Person)-[:ACTED_IN]->(m:Movie)\n",
    "        WITH m, count(p) AS actor_count\n",
    "        RETURN avg(actor_count) AS avg_actor_nb\n",
    "        \"\"\"\n",
    "\n",
    "results = graph.run(query).to_data_frame()\n",
    "print(\"On average,\", round(results['avg_actor_nb'][0],1), \"actors play in a movie\")"
   ]
  },
  {
   "cell_type": "markdown",
   "metadata": {},
   "source": [
    "#### 5 : In average how many writers is needed to write a movie ?"
   ]
  },
  {
   "cell_type": "code",
   "execution_count": 163,
   "metadata": {},
   "outputs": [
    {
     "name": "stdout",
     "output_type": "stream",
     "text": [
      "On average, 1.3 authors are needed to write a movie\n"
     ]
    }
   ],
   "source": [
    "query = \"\"\"\n",
    "        MATCH (p:Person)-[:WROTE]->(m:Movie)\n",
    "        WITH m, count(p) AS writer_count\n",
    "        RETURN avg(writer_count) AS avg_writer_nb\n",
    "        \"\"\"\n",
    "\n",
    "results = graph.run(query).to_data_frame()\n",
    "print(\"On average,\", round(results['avg_writer_nb'][0],1), \"authors are needed to write a movie\")"
   ]
  },
  {
   "cell_type": "markdown",
   "metadata": {},
   "source": [
    "#### 6 : What is the proportion of writers that also directed the movie ?"
   ]
  },
  {
   "cell_type": "code",
   "execution_count": 184,
   "metadata": {},
   "outputs": [
    {
     "name": "stdout",
     "output_type": "stream",
     "text": [
      "The proportion of writers that also directed the movie is 57.14 %\n"
     ]
    }
   ],
   "source": [
    "query = \"\"\"\n",
    "        MATCH (p:Person)-[:WROTE]->(m:Movie)\n",
    "        WITH p, collect(m) AS wroteMovies\n",
    "        MATCH (p)-[:DIRECTED]->(m)\n",
    "        WITH p, wroteMovies, collect(m) AS directedMovies\n",
    "        WHERE any(movie IN wroteMovies WHERE movie IN directedMovies)\n",
    "        WITH count(DISTINCT p) AS WritersDirectors\n",
    "        MATCH (p:Person)-[:WROTE]->(m:Movie)\n",
    "        WITH count(DISTINCT p) AS TotalWriters, WritersDirectors\n",
    "        RETURN toFloat(WritersDirectors) / TotalWriters AS Proportion\n",
    "        \"\"\"\n",
    "\n",
    "results = graph.run(query).to_data_frame()\n",
    "print(f'The proportion of writers that also directed the movie is {round(results[\"Proportion\"][0]*100,2)} %')"
   ]
  },
  {
   "cell_type": "markdown",
   "metadata": {},
   "source": [
    "#### 7 : Do an histogram of the year of release for the movies."
   ]
  },
  {
   "cell_type": "code",
   "execution_count": 192,
   "metadata": {},
   "outputs": [
    {
     "name": "stderr",
     "output_type": "stream",
     "text": [
      "C:\\Users\\werne\\anaconda3\\Lib\\site-packages\\seaborn\\_oldcore.py:1119: FutureWarning: use_inf_as_na option is deprecated and will be removed in a future version. Convert inf values to NaN before operating instead.\n",
      "  with pd.option_context('mode.use_inf_as_na', True):\n"
     ]
    },
    {
     "data": {
      "image/png": "[encoded data removed]",
      "text/plain": [
       "<Figure size 500x300 with 1 Axes>"
      ]
     },
     "metadata": {},
     "output_type": "display_data"
    }
   ],
   "source": [
    "query = \"\"\"\n",
    "        MATCH (m:Movie)\n",
    "        RETURN m.released AS YearRelease\n",
    "        \"\"\"\n",
    "\n",
    "data = graph.run(query).to_data_frame()\n",
    "\n",
    "with warnings.catch_warnings():\n",
    "    warnings.simplefilter(\"ignore\")\n",
    "    plt.figure(figsize=(5, 3))\n",
    "    sns.histplot(data['YearRelease'], kde=False, color='blue')\n",
    "    plt.title('Histogram of Movie Release Years')\n",
    "    plt.xlabel('Year of Release')\n",
    "    plt.ylabel('Number of Movies')\n",
    "    plt.show()"
   ]
  },
  {
   "cell_type": "markdown",
   "metadata": {},
   "source": [
    "#### 8 : Who are the 10 actors with the most movie played in"
   ]
  },
  {
   "cell_type": "code",
   "execution_count": 194,
   "metadata": {},
   "outputs": [
    {
     "data": {
      "text/html": [
       "<div>\n",
       "<style scoped>\n",
       "    .dataframe tbody tr th:only-of-type {\n",
       "        vertical-align: middle;\n",
       "    }\n",
       "\n",
       "    .dataframe tbody tr th {\n",
       "        vertical-align: top;\n",
       "    }\n",
       "\n",
       "    .dataframe thead th {\n",
       "        text-align: right;\n",
       "    }\n",
       "</style>\n",
       "<table border=\"1\" class=\"dataframe\">\n",
       "  <thead>\n",
       "    <tr style=\"text-align: right;\">\n",
       "      <th></th>\n",
       "      <th>Actor</th>\n",
       "      <th>movies_count</th>\n",
       "    </tr>\n",
       "  </thead>\n",
       "  <tbody>\n",
       "    <tr>\n",
       "      <th>0</th>\n",
       "      <td>Tom Hanks</td>\n",
       "      <td>12</td>\n",
       "    </tr>\n",
       "    <tr>\n",
       "      <th>1</th>\n",
       "      <td>Keanu Reeves</td>\n",
       "      <td>7</td>\n",
       "    </tr>\n",
       "    <tr>\n",
       "      <th>2</th>\n",
       "      <td>Meg Ryan</td>\n",
       "      <td>5</td>\n",
       "    </tr>\n",
       "    <tr>\n",
       "      <th>3</th>\n",
       "      <td>Jack Nicholson</td>\n",
       "      <td>5</td>\n",
       "    </tr>\n",
       "    <tr>\n",
       "      <th>4</th>\n",
       "      <td>Hugo Weaving</td>\n",
       "      <td>5</td>\n",
       "    </tr>\n",
       "    <tr>\n",
       "      <th>5</th>\n",
       "      <td>Cuba Gooding Jr.</td>\n",
       "      <td>4</td>\n",
       "    </tr>\n",
       "    <tr>\n",
       "      <th>6</th>\n",
       "      <td>Kevin Bacon</td>\n",
       "      <td>3</td>\n",
       "    </tr>\n",
       "    <tr>\n",
       "      <th>7</th>\n",
       "      <td>Laurence Fishburne</td>\n",
       "      <td>3</td>\n",
       "    </tr>\n",
       "    <tr>\n",
       "      <th>8</th>\n",
       "      <td>Carrie-Anne Moss</td>\n",
       "      <td>3</td>\n",
       "    </tr>\n",
       "    <tr>\n",
       "      <th>9</th>\n",
       "      <td>Tom Cruise</td>\n",
       "      <td>3</td>\n",
       "    </tr>\n",
       "  </tbody>\n",
       "</table>\n",
       "</div>"
      ],
      "text/plain": [
       "                Actor  movies_count\n",
       "0           Tom Hanks            12\n",
       "1        Keanu Reeves             7\n",
       "2            Meg Ryan             5\n",
       "3      Jack Nicholson             5\n",
       "4        Hugo Weaving             5\n",
       "5    Cuba Gooding Jr.             4\n",
       "6         Kevin Bacon             3\n",
       "7  Laurence Fishburne             3\n",
       "8    Carrie-Anne Moss             3\n",
       "9          Tom Cruise             3"
      ]
     },
     "execution_count": 194,
     "metadata": {},
     "output_type": "execute_result"
    }
   ],
   "source": [
    "query = \"\"\"\n",
    "        MATCH (a:Person)-[:ACTED_IN]->(m:Movie)\n",
    "        WITH a, count(m) AS movies_count\n",
    "        ORDER BY movies_count DESC\n",
    "        LIMIT 10\n",
    "        RETURN a.name AS Actor, movies_count\n",
    "        \"\"\"\n",
    "\n",
    "results = graph.run(query).to_data_frame()\n",
    "results"
   ]
  },
  {
   "cell_type": "markdown",
   "metadata": {},
   "source": [
    "#### 9 : Delete every movie made by a director of your choosing"
   ]
  },
  {
   "cell_type": "code",
   "execution_count": 208,
   "metadata": {},
   "outputs": [
    {
     "data": {
      "text/html": [
       "(No data)"
      ],
      "text/plain": [
       "(No data)"
      ]
     },
     "execution_count": 208,
     "metadata": {},
     "output_type": "execute_result"
    }
   ],
   "source": [
    "query = \"\"\"\n",
    "        MATCH (d:Person {name: \"Robert Zemeckis\"})-[:DIRECTED]->(m:Movie)\n",
    "        DETACH DELETE m\n",
    "        \"\"\"\n",
    "\n",
    "graph.run(query)"
   ]
  },
  {
   "cell_type": "markdown",
   "metadata": {},
   "source": [
    "#### 10 : Give some statistics that you find interesting."
   ]
  },
  {
   "cell_type": "code",
   "execution_count": 216,
   "metadata": {},
   "outputs": [
    {
     "name": "stdout",
     "output_type": "stream",
     "text": [
      "The average age of writers when their movies are released is 45.375 years old.\n"
     ]
    }
   ],
   "source": [
    "query = \"\"\"\n",
    "        MATCH (p:Person)-[:WROTE]->(m:Movie)\n",
    "        WHERE p.born IS NOT NULL AND m.released IS NOT NULL\n",
    "        RETURN avg(m.released - p.born) AS average_writer_age\n",
    "        \"\"\"\n",
    "\n",
    "results = graph.run(query).to_data_frame()\n",
    "print(f'The average age of writers when their movies are released is {results[\"average_writer_age\"][0]} years old.')"
   ]
  },
  {
   "cell_type": "markdown",
   "metadata": {},
   "source": [
    "#### 11 : Sandbox exercise: Who are the actors with the greatest longevity in the industry?"
   ]
  },
  {
   "cell_type": "code",
   "execution_count": 403,
   "metadata": {},
   "outputs": [
    {
     "data": {
      "text/html": [
       "<div>\n",
       "<style scoped>\n",
       "    .dataframe tbody tr th:only-of-type {\n",
       "        vertical-align: middle;\n",
       "    }\n",
       "\n",
       "    .dataframe tbody tr th {\n",
       "        vertical-align: top;\n",
       "    }\n",
       "\n",
       "    .dataframe thead th {\n",
       "        text-align: right;\n",
       "    }\n",
       "</style>\n",
       "<table border=\"1\" class=\"dataframe\">\n",
       "  <thead>\n",
       "    <tr style=\"text-align: right;\">\n",
       "      <th></th>\n",
       "      <th>Actor</th>\n",
       "      <th>Career Span</th>\n",
       "    </tr>\n",
       "  </thead>\n",
       "  <tbody>\n",
       "    <tr>\n",
       "      <th>0</th>\n",
       "      <td>Jack Nicholson</td>\n",
       "      <td>28</td>\n",
       "    </tr>\n",
       "    <tr>\n",
       "      <th>1</th>\n",
       "      <td>Tom Hanks</td>\n",
       "      <td>22</td>\n",
       "    </tr>\n",
       "    <tr>\n",
       "      <th>2</th>\n",
       "      <td>Marshall Bell</td>\n",
       "      <td>20</td>\n",
       "    </tr>\n",
       "    <tr>\n",
       "      <th>3</th>\n",
       "      <td>Danny DeVito</td>\n",
       "      <td>17</td>\n",
       "    </tr>\n",
       "    <tr>\n",
       "      <th>4</th>\n",
       "      <td>Tom Cruise</td>\n",
       "      <td>14</td>\n",
       "    </tr>\n",
       "  </tbody>\n",
       "</table>\n",
       "</div>"
      ],
      "text/plain": [
       "            Actor  Career Span\n",
       "0  Jack Nicholson           28\n",
       "1       Tom Hanks           22\n",
       "2   Marshall Bell           20\n",
       "3    Danny DeVito           17\n",
       "4      Tom Cruise           14"
      ]
     },
     "execution_count": 403,
     "metadata": {},
     "output_type": "execute_result"
    }
   ],
   "source": [
    "query = \"\"\"\n",
    "        MATCH (p:Person)-[:ACTED_IN]->(m:Movie)\n",
    "        WITH p, MIN(m.released) AS FirstYear, MAX(m.released) AS LastYear\n",
    "        RETURN p.name AS Actor, LastYear - FirstYear AS `Career Span`\n",
    "        ORDER BY `Career Span` DESC\n",
    "        LIMIT 5;\n",
    "        \"\"\"\n",
    "\n",
    "results = graph.run(query).to_data_frame()\n",
    "results"
   ]
  },
  {
   "cell_type": "markdown",
   "metadata": {},
   "source": [
    "## Real World application 5\n",
    "\n",
    "You will work on a Twitch dataset found [here](https://www.kaggle.com/andreagarritano/twitch-social-networks). The goal is to learn more about the feat&fun on Twitch. First thing to do is create the network on Neo4j. Insert the node\n",
    "from Twitch/FR_target and then the edges from Twitch/FR_edges.csv in neo4j. Answer the following using cypher queries"
   ]
  },
  {
   "cell_type": "code",
   "execution_count": 478,
   "metadata": {
    "scrolled": true
   },
   "outputs": [],
   "source": [
    "graph = Graph(\"bolt://localhost:7687\", auth=(\"neo4j\", \"rootuser\"), name=\"twitch\")\n",
    "target = pd.read_csv(data_dir+'FR_target.csv')\n",
    "edges = pd.read_csv(data_dir+'FR_edges.csv')"
   ]
  },
  {
   "cell_type": "code",
   "execution_count": 163,
   "metadata": {
    "scrolled": true
   },
   "outputs": [],
   "source": [
    "def create_nodes(graph, df):\n",
    "    for index, row in tqdm(df.iterrows(), total=df.shape[0], desc=\"Creating nodes\"):\n",
    "        graph.run(\"CREATE (n:Streamer {id: $id, days: $days, mature: $mature, views: $views, partner: $partner, new_id: $new_id})\", \n",
    "                  id=row['id'], days=row['days'], mature=row['mature'], views=row['views'], partner=row['partner'], new_id=row['new_id'])\n",
    "\n",
    "def create_edges(graph, df_edges):\n",
    "    for index, row in tqdm(df_edges.iterrows(), total=df_edges.shape[0], desc=\"Creating edges\"):\n",
    "        from_id = int(row['from'])\n",
    "        to_id = int(row['to'])\n",
    "        query = \"\"\"\n",
    "                MATCH (a:Streamer {new_id: $from_id}), (b:Streamer {new_id: $to_id})\n",
    "                MERGE (a)-[r1:COLLAB]->(b)\n",
    "                MERGE (b)-[r2:COLLAB]->(a)\n",
    "                \"\"\"\n",
    "        graph.run(query, from_id=from_id, to_id=to_id)"
   ]
  },
  {
   "cell_type": "code",
   "execution_count": 164,
   "metadata": {},
   "outputs": [
    {
     "name": "stderr",
     "output_type": "stream",
     "text": [
      "100%|█████████████████████████████████████████████████████████████████████████████| 6551/6551 [00:22<00:00, 296.47it/s]\n",
      "100%|██████████████████████████████████████████████████████████████████████████| 112666/112666 [26:05<00:00, 71.97it/s]\n"
     ]
    }
   ],
   "source": [
    "create_nodes(graph, target)\n",
    "create_edges(graph, edges)"
   ]
  },
  {
   "cell_type": "markdown",
   "metadata": {},
   "source": [
    "#### 1 : Give the IDs of the top 10 streamers that have atleast one collaboration."
   ]
  },
  {
   "cell_type": "code",
   "execution_count": 480,
   "metadata": {},
   "outputs": [
    {
     "data": {
      "text/html": [
       "<div>\n",
       "<style scoped>\n",
       "    .dataframe tbody tr th:only-of-type {\n",
       "        vertical-align: middle;\n",
       "    }\n",
       "\n",
       "    .dataframe tbody tr th {\n",
       "        vertical-align: top;\n",
       "    }\n",
       "\n",
       "    .dataframe thead th {\n",
       "        text-align: right;\n",
       "    }\n",
       "</style>\n",
       "<table border=\"1\" class=\"dataframe\">\n",
       "  <thead>\n",
       "    <tr style=\"text-align: right;\">\n",
       "      <th></th>\n",
       "      <th>StreamerID</th>\n",
       "      <th>Views</th>\n",
       "    </tr>\n",
       "  </thead>\n",
       "  <tbody>\n",
       "    <tr>\n",
       "      <th>0</th>\n",
       "      <td>3459</td>\n",
       "      <td>108432615</td>\n",
       "    </tr>\n",
       "    <tr>\n",
       "      <th>1</th>\n",
       "      <td>6420</td>\n",
       "      <td>62713570</td>\n",
       "    </tr>\n",
       "    <tr>\n",
       "      <th>2</th>\n",
       "      <td>5511</td>\n",
       "      <td>44534929</td>\n",
       "    </tr>\n",
       "    <tr>\n",
       "      <th>3</th>\n",
       "      <td>2161</td>\n",
       "      <td>44374644</td>\n",
       "    </tr>\n",
       "    <tr>\n",
       "      <th>4</th>\n",
       "      <td>2799</td>\n",
       "      <td>43059742</td>\n",
       "    </tr>\n",
       "    <tr>\n",
       "      <th>5</th>\n",
       "      <td>5968</td>\n",
       "      <td>42801507</td>\n",
       "    </tr>\n",
       "    <tr>\n",
       "      <th>6</th>\n",
       "      <td>1751</td>\n",
       "      <td>38404078</td>\n",
       "    </tr>\n",
       "    <tr>\n",
       "      <th>7</th>\n",
       "      <td>5804</td>\n",
       "      <td>37754841</td>\n",
       "    </tr>\n",
       "    <tr>\n",
       "      <th>8</th>\n",
       "      <td>1552</td>\n",
       "      <td>34295755</td>\n",
       "    </tr>\n",
       "    <tr>\n",
       "      <th>9</th>\n",
       "      <td>5844</td>\n",
       "      <td>29998029</td>\n",
       "    </tr>\n",
       "  </tbody>\n",
       "</table>\n",
       "</div>"
      ],
      "text/plain": [
       "   StreamerID      Views\n",
       "0        3459  108432615\n",
       "1        6420   62713570\n",
       "2        5511   44534929\n",
       "3        2161   44374644\n",
       "4        2799   43059742\n",
       "5        5968   42801507\n",
       "6        1751   38404078\n",
       "7        5804   37754841\n",
       "8        1552   34295755\n",
       "9        5844   29998029"
      ]
     },
     "execution_count": 480,
     "metadata": {},
     "output_type": "execute_result"
    }
   ],
   "source": [
    "query = \"\"\"\n",
    "        MATCH (s:Streamer)-[:COLLAB]-() \n",
    "        RETURN DISTINCT s.new_id AS StreamerID, s.views AS Views\n",
    "        ORDER BY s.views DESC  \n",
    "        LIMIT 10\n",
    "        \"\"\"\n",
    "\n",
    "result = graph.run(query).to_data_frame()\n",
    "result"
   ]
  },
  {
   "cell_type": "markdown",
   "metadata": {},
   "source": [
    "#### 2 : Create a density of node degrees. Do you observe a power scale law ? What does it mean ?"
   ]
  },
  {
   "cell_type": "code",
   "execution_count": 479,
   "metadata": {},
   "outputs": [
    {
     "data": {
      "image/png": "[encoded data removed]",
      "text/plain": [
       "<Figure size 400x300 with 1 Axes>"
      ]
     },
     "metadata": {},
     "output_type": "display_data"
    },
    {
     "name": "stdout",
     "output_type": "stream",
     "text": [
      "Yes as the log-log relation could be could be considered linear here.\n",
      "A power law is a functional relationship between two quantities where one quantity varies as a power of another.\n"
     ]
    }
   ],
   "source": [
    "query = \"\"\"\n",
    "        MATCH (s:Streamer)\n",
    "        RETURN s.new_id AS StreamerID, size((s)-[:COLLAB]-()) AS Degree\n",
    "        \"\"\"\n",
    "results = graph.run(query).to_data_frame()\n",
    "degrees = results['Degree'].tolist()\n",
    "degrees = [x if np.isfinite(x) else np.nan for x in degrees]\n",
    "degrees = [x for x in degrees if not pd.isna(x)]\n",
    "\n",
    "with warnings.catch_warnings():\n",
    "    warnings.simplefilter(\"ignore\")\n",
    "    logbins = np.logspace(np.log10(min(degrees)), np.log10(max(degrees)), 50)\n",
    "    plt.figure(figsize=(4, 3))\n",
    "    sns.histplot(degrees, bins=logbins, kde=False, color=\"blue\", stat=\"density\")\n",
    "    plt.xscale('log')\n",
    "    plt.yscale('log')\n",
    "    plt.title('Degree Distribution', fontsize=10)\n",
    "    plt.xlabel('Degree', fontsize=8)\n",
    "    plt.ylabel('Density', fontsize=8)\n",
    "    plt.xticks(fontsize=6)\n",
    "    plt.yticks(fontsize=6)\n",
    "    plt.tight_layout()\n",
    "    plt.show()\n",
    "\n",
    "print(\"\"\"Yes as the log-log relation could be could be considered linear here.\n",
    "A power law is a functional relationship between two quantities where one quantity varies as a power of another.\"\"\")"
   ]
  },
  {
   "cell_type": "markdown",
   "metadata": {},
   "source": [
    "#### 3 : How many streamers has the tag \"mature\" ?"
   ]
  },
  {
   "cell_type": "code",
   "execution_count": 193,
   "metadata": {},
   "outputs": [
    {
     "name": "stdout",
     "output_type": "stream",
     "text": [
      "2416 streamers have the tag \"mature\".\n"
     ]
    }
   ],
   "source": [
    "query = \"\"\"\n",
    "        MATCH (s:Streamer {mature: TRUE})\n",
    "        RETURN count(s) AS mature_tag_count\n",
    "        \"\"\"\n",
    "\n",
    "result = graph.run(query).to_data_frame()\n",
    "print(f'{result[\"mature_tag_count\"][0]} streamers have the tag \"mature\".')"
   ]
  },
  {
   "cell_type": "markdown",
   "metadata": {},
   "source": [
    "#### 4 : Is the collaboration correlated to the \"mature\" tag ?"
   ]
  },
  {
   "cell_type": "code",
   "execution_count": 473,
   "metadata": {},
   "outputs": [
    {
     "name": "stdout",
     "output_type": "stream",
     "text": [
      "Correlation coefficient: 0.033 \n",
      " No, the number of collaboration isn't correlated to the 'mature' tag\n"
     ]
    }
   ],
   "source": [
    "query = \"\"\"\n",
    "        MATCH (s:Streamer)\n",
    "        RETURN \n",
    "            CASE s.mature WHEN true THEN 1 ELSE 0 END AS Mature,\n",
    "            size((s)-[:COLLAB]-()) AS Collabs\n",
    "        \"\"\"\n",
    "result = graph.run(query).data()\n",
    "\n",
    "mature = np.array([r['Mature'] for r in result])\n",
    "collabs = np.array([r['Collabs'] for r in result])\n",
    "corr = np.corrcoef(mature, collabs)[0, 1]\n",
    "\n",
    "print(\"Correlation coefficient:\", round(corr,3), \"\\n No, the number of collaboration isn't correlated to the 'mature' tag\")"
   ]
  },
  {
   "cell_type": "markdown",
   "metadata": {},
   "source": [
    "#### 5 : Do partners collaborate more than non partners ?"
   ]
  },
  {
   "cell_type": "code",
   "execution_count": 212,
   "metadata": {},
   "outputs": [
    {
     "name": "stdout",
     "output_type": "stream",
     "text": [
      "Yes, avg nb_collab for partners (519.75) is significantly higher than avg nb_collab for non-partners (57.00)\n"
     ]
    }
   ],
   "source": [
    "query = \"\"\"\n",
    "        MATCH (s:Streamer)-[r:COLLAB]->()\n",
    "        WHERE s.partner IS NOT NULL\n",
    "        RETURN s.partner as PartnerStatus, avg(size((s)-[:COLLAB]->())) as AvgCollaborations\n",
    "        \"\"\"\n",
    "\n",
    "result = graph.run(query).to_data_frame()\n",
    "print(f\"Yes, avg nb_collab for partners ({result['AvgCollaborations'][1]:.2f}) is significantly higher than avg nb_collab for non-partners ({result['AvgCollaborations'][0]:.2f})\")"
   ]
  },
  {
   "cell_type": "markdown",
   "metadata": {},
   "source": [
    "#### 6 : Sandbox exercise: Do partner streamers work more than non-partners ?"
   ]
  },
  {
   "cell_type": "code",
   "execution_count": 475,
   "metadata": {},
   "outputs": [
    {
     "data": {
      "image/png": "[encoded data removed]",
      "text/plain": [
       "<Figure size 1000x600 with 1 Axes>"
      ]
     },
     "metadata": {},
     "output_type": "display_data"
    }
   ],
   "source": [
    "query = \"\"\"\n",
    "        MATCH (s:Streamer)\n",
    "        RETURN s.partner AS PartnerStatus, s.days AS Days\n",
    "        ORDER BY s.partner, s.days;\n",
    "        \"\"\"\n",
    "\n",
    "data = graph.run(query).to_data_frame()\n",
    "\n",
    "with warnings.catch_warnings():\n",
    "    warnings.simplefilter(\"ignore\")\n",
    "    plt.figure(figsize=(10, 6))\n",
    "    sns.kdeplot(data=data[data['PartnerStatus'] == True]['Days'], label='Partner = True', fill=True)\n",
    "    sns.kdeplot(data=data[data['PartnerStatus'] == False]['Days'], label='Partner = False', fill=True)\n",
    "    plt.title('Density Plot of Streaming Days by Partner Status')\n",
    "    plt.xlabel('Days')\n",
    "    plt.ylabel('Density')\n",
    "    plt.legend()\n",
    "    plt.show()"
   ]
  },
  {
   "cell_type": "markdown",
   "metadata": {},
   "source": [
    "## Real World application 6\n",
    "\n",
    "You will work on a stackoverflow dataset found [here](https://www.kaggle.com/stackoverflow/stack-overflow-tag-network). First thing to do is create the network on Neo4j. You can find the characteristics of the nodes in stack_network_nodes.csv.\n",
    "Once the node are create you can create the edges between them, you can find them in stack_network_links.csv. The weight of the edge is the column value. Answer the following making use of cypher queries."
   ]
  },
  {
   "cell_type": "code",
   "execution_count": 484,
   "metadata": {},
   "outputs": [],
   "source": [
    "graph = Graph(\"bolt://localhost:7687\", auth=(\"neo4j\", \"rootuser\"), name=\"stack\")\n",
    "nodes_df = pd.read_csv(data_dir+'stack_network_nodes.csv')\n",
    "links_df = pd.read_csv(data_dir+'stack_network_links.csv')\n",
    "\n",
    "def create_nodes(nodes_df):\n",
    "    for index, row in tqdm(nodes_df.iterrows(), total=nodes_df.shape[0], desc=\"Creating nodes\"):\n",
    "        node = Node(\"Keyword\", name=row['name'], group=row['group'], nodesize=row['nodesize'])\n",
    "        graph.merge(node, \"Keyword\", \"name\")\n",
    "\n",
    "def create_relationships(links_df):\n",
    "    for index, row in tqdm(links_df.iterrows(), total=links_df.shape[0], desc=\"Creating relationships\"):\n",
    "        source_node = graph.nodes.match(\"Keyword\", name=row['source']).first()\n",
    "        target_node = graph.nodes.match(\"Keyword\", name=row['target']).first()\n",
    "        if source_node and target_node:\n",
    "            rel = Relationship(source_node, \"RELATED_TO\", target_node, value=row['value'])\n",
    "            graph.merge(rel)"
   ]
  },
  {
   "cell_type": "code",
   "execution_count": 237,
   "metadata": {},
   "outputs": [
    {
     "name": "stderr",
     "output_type": "stream",
     "text": [
      "Creating nodes: 100%|███████████████████████████████████████████████████████████████| 115/115 [00:00<00:00, 227.58it/s]\n",
      "Creating relationships: 100%|███████████████████████████████████████████████████████| 490/490 [00:03<00:00, 156.29it/s]\n"
     ]
    }
   ],
   "source": [
    "create_nodes(nodes_df)\n",
    "create_relationships(links_df)"
   ]
  },
  {
   "cell_type": "markdown",
   "metadata": {},
   "source": [
    "#### 1 : What are the 10 most popular keywords ?"
   ]
  },
  {
   "cell_type": "code",
   "execution_count": 495,
   "metadata": {},
   "outputs": [
    {
     "data": {
      "text/html": [
       "<div>\n",
       "<style scoped>\n",
       "    .dataframe tbody tr th:only-of-type {\n",
       "        vertical-align: middle;\n",
       "    }\n",
       "\n",
       "    .dataframe tbody tr th {\n",
       "        vertical-align: top;\n",
       "    }\n",
       "\n",
       "    .dataframe thead th {\n",
       "        text-align: right;\n",
       "    }\n",
       "</style>\n",
       "<table border=\"1\" class=\"dataframe\">\n",
       "  <thead>\n",
       "    <tr style=\"text-align: right;\">\n",
       "      <th></th>\n",
       "      <th>Keyword</th>\n",
       "      <th>NodeSize</th>\n",
       "    </tr>\n",
       "  </thead>\n",
       "  <tbody>\n",
       "    <tr>\n",
       "      <th>0</th>\n",
       "      <td>javascript</td>\n",
       "      <td>649.16</td>\n",
       "    </tr>\n",
       "    <tr>\n",
       "      <th>1</th>\n",
       "      <td>java</td>\n",
       "      <td>610.65</td>\n",
       "    </tr>\n",
       "    <tr>\n",
       "      <th>2</th>\n",
       "      <td>python</td>\n",
       "      <td>438.67</td>\n",
       "    </tr>\n",
       "    <tr>\n",
       "      <th>3</th>\n",
       "      <td>php</td>\n",
       "      <td>361.22</td>\n",
       "    </tr>\n",
       "    <tr>\n",
       "      <th>4</th>\n",
       "      <td>css</td>\n",
       "      <td>341.17</td>\n",
       "    </tr>\n",
       "    <tr>\n",
       "      <th>5</th>\n",
       "      <td>c#</td>\n",
       "      <td>321.13</td>\n",
       "    </tr>\n",
       "    <tr>\n",
       "      <th>6</th>\n",
       "      <td>html</td>\n",
       "      <td>272.45</td>\n",
       "    </tr>\n",
       "    <tr>\n",
       "      <th>7</th>\n",
       "      <td>c++</td>\n",
       "      <td>268.11</td>\n",
       "    </tr>\n",
       "    <tr>\n",
       "      <th>8</th>\n",
       "      <td>android</td>\n",
       "      <td>229.86</td>\n",
       "    </tr>\n",
       "    <tr>\n",
       "      <th>9</th>\n",
       "      <td>jquery</td>\n",
       "      <td>208.29</td>\n",
       "    </tr>\n",
       "  </tbody>\n",
       "</table>\n",
       "</div>"
      ],
      "text/plain": [
       "      Keyword  NodeSize\n",
       "0  javascript    649.16\n",
       "1        java    610.65\n",
       "2      python    438.67\n",
       "3         php    361.22\n",
       "4         css    341.17\n",
       "5          c#    321.13\n",
       "6        html    272.45\n",
       "7         c++    268.11\n",
       "8     android    229.86\n",
       "9      jquery    208.29"
      ]
     },
     "execution_count": 495,
     "metadata": {},
     "output_type": "execute_result"
    }
   ],
   "source": [
    "query = \"\"\"\n",
    "        MATCH (k:Keyword)\n",
    "        RETURN k.name AS Keyword, k.nodesize AS NodeSize\n",
    "        ORDER BY k.nodesize DESC\n",
    "        LIMIT 10\n",
    "        \"\"\"\n",
    "\n",
    "result=graph.run(query).to_data_frame()\n",
    "result"
   ]
  },
  {
   "cell_type": "markdown",
   "metadata": {},
   "source": [
    "#### 2 : What are the top 10 Co-occurence ?"
   ]
  },
  {
   "cell_type": "code",
   "execution_count": 496,
   "metadata": {},
   "outputs": [
    {
     "data": {
      "text/html": [
       "<div>\n",
       "<style scoped>\n",
       "    .dataframe tbody tr th:only-of-type {\n",
       "        vertical-align: middle;\n",
       "    }\n",
       "\n",
       "    .dataframe tbody tr th {\n",
       "        vertical-align: top;\n",
       "    }\n",
       "\n",
       "    .dataframe thead th {\n",
       "        text-align: right;\n",
       "    }\n",
       "</style>\n",
       "<table border=\"1\" class=\"dataframe\">\n",
       "  <thead>\n",
       "    <tr style=\"text-align: right;\">\n",
       "      <th></th>\n",
       "      <th>Keyword1</th>\n",
       "      <th>Keyword2</th>\n",
       "      <th>link_weight</th>\n",
       "    </tr>\n",
       "  </thead>\n",
       "  <tbody>\n",
       "    <tr>\n",
       "      <th>0</th>\n",
       "      <td>html</td>\n",
       "      <td>css</td>\n",
       "      <td>126.571127</td>\n",
       "    </tr>\n",
       "    <tr>\n",
       "      <th>1</th>\n",
       "      <td>css</td>\n",
       "      <td>html</td>\n",
       "      <td>126.571127</td>\n",
       "    </tr>\n",
       "    <tr>\n",
       "      <th>2</th>\n",
       "      <td>hibernate</td>\n",
       "      <td>spring</td>\n",
       "      <td>103.268284</td>\n",
       "    </tr>\n",
       "    <tr>\n",
       "      <th>3</th>\n",
       "      <td>spring</td>\n",
       "      <td>hibernate</td>\n",
       "      <td>103.268284</td>\n",
       "    </tr>\n",
       "    <tr>\n",
       "      <th>4</th>\n",
       "      <td>ruby-on-rails</td>\n",
       "      <td>ruby</td>\n",
       "      <td>95.361311</td>\n",
       "    </tr>\n",
       "    <tr>\n",
       "      <th>5</th>\n",
       "      <td>ruby</td>\n",
       "      <td>ruby-on-rails</td>\n",
       "      <td>95.361311</td>\n",
       "    </tr>\n",
       "    <tr>\n",
       "      <th>6</th>\n",
       "      <td>ios</td>\n",
       "      <td>swift</td>\n",
       "      <td>87.219642</td>\n",
       "    </tr>\n",
       "    <tr>\n",
       "      <th>7</th>\n",
       "      <td>swift</td>\n",
       "      <td>ios</td>\n",
       "      <td>87.219642</td>\n",
       "    </tr>\n",
       "    <tr>\n",
       "      <th>8</th>\n",
       "      <td>html5</td>\n",
       "      <td>css</td>\n",
       "      <td>87.138270</td>\n",
       "    </tr>\n",
       "    <tr>\n",
       "      <th>9</th>\n",
       "      <td>css</td>\n",
       "      <td>html5</td>\n",
       "      <td>87.138270</td>\n",
       "    </tr>\n",
       "  </tbody>\n",
       "</table>\n",
       "</div>"
      ],
      "text/plain": [
       "        Keyword1       Keyword2  link_weight\n",
       "0           html            css   126.571127\n",
       "1            css           html   126.571127\n",
       "2      hibernate         spring   103.268284\n",
       "3         spring      hibernate   103.268284\n",
       "4  ruby-on-rails           ruby    95.361311\n",
       "5           ruby  ruby-on-rails    95.361311\n",
       "6            ios          swift    87.219642\n",
       "7          swift            ios    87.219642\n",
       "8          html5            css    87.138270\n",
       "9            css          html5    87.138270"
      ]
     },
     "execution_count": 496,
     "metadata": {},
     "output_type": "execute_result"
    }
   ],
   "source": [
    "query = \"\"\"\n",
    "        MATCH (k1:Keyword)-[r:RELATED_TO]->(k2:Keyword)\n",
    "        WITH k1, k2, r.value AS link_weight\n",
    "        ORDER BY link_weight DESC\n",
    "        LIMIT 10\n",
    "        RETURN k1.name AS Keyword1, k2.name AS Keyword2, link_weight\n",
    "        \"\"\"\n",
    "\n",
    "result=graph.run(query).to_data_frame()\n",
    "result"
   ]
  },
  {
   "cell_type": "markdown",
   "metadata": {},
   "source": [
    "#### 3 : How many keywords are in group 1 ?"
   ]
  },
  {
   "cell_type": "code",
   "execution_count": 497,
   "metadata": {},
   "outputs": [
    {
     "name": "stdout",
     "output_type": "stream",
     "text": [
      "There are 10 keywords in group 1\n"
     ]
    }
   ],
   "source": [
    "query = \"\"\"\n",
    "        MATCH (k:Keyword)\n",
    "        WHERE k.group = 1\n",
    "        RETURN count(k) AS kw_grp1\n",
    "        \"\"\"\n",
    "\n",
    "result=graph.run(query).to_data_frame()\n",
    "print(\"There are\", result['kw_grp1'][0], \"keywords in group 1\")"
   ]
  },
  {
   "cell_type": "markdown",
   "metadata": {},
   "source": [
    "#### 4 : Is the Co-occurence correlated to the \"group\" of the keyword ?  "
   ]
  },
  {
   "cell_type": "code",
   "execution_count": 498,
   "metadata": {},
   "outputs": [
    {
     "name": "stdout",
     "output_type": "stream",
     "text": [
      "The Co-occurence doesn't seem to be independant from the group of the keywords.\n"
     ]
    },
    {
     "data": {
      "text/html": [
       "<div>\n",
       "<style scoped>\n",
       "    .dataframe tbody tr th:only-of-type {\n",
       "        vertical-align: middle;\n",
       "    }\n",
       "\n",
       "    .dataframe tbody tr th {\n",
       "        vertical-align: top;\n",
       "    }\n",
       "\n",
       "    .dataframe thead th {\n",
       "        text-align: right;\n",
       "    }\n",
       "</style>\n",
       "<table border=\"1\" class=\"dataframe\">\n",
       "  <thead>\n",
       "    <tr style=\"text-align: right;\">\n",
       "      <th></th>\n",
       "      <th>Group</th>\n",
       "      <th>Co-occurence average</th>\n",
       "    </tr>\n",
       "  </thead>\n",
       "  <tbody>\n",
       "    <tr>\n",
       "      <th>0</th>\n",
       "      <td>14</td>\n",
       "      <td>49.794068</td>\n",
       "    </tr>\n",
       "    <tr>\n",
       "      <th>1</th>\n",
       "      <td>4</td>\n",
       "      <td>49.134879</td>\n",
       "    </tr>\n",
       "    <tr>\n",
       "      <th>2</th>\n",
       "      <td>10</td>\n",
       "      <td>38.750501</td>\n",
       "    </tr>\n",
       "    <tr>\n",
       "      <th>3</th>\n",
       "      <td>3</td>\n",
       "      <td>38.502860</td>\n",
       "    </tr>\n",
       "    <tr>\n",
       "      <th>4</th>\n",
       "      <td>12</td>\n",
       "      <td>37.146590</td>\n",
       "    </tr>\n",
       "    <tr>\n",
       "      <th>5</th>\n",
       "      <td>8</td>\n",
       "      <td>36.944779</td>\n",
       "    </tr>\n",
       "    <tr>\n",
       "      <th>6</th>\n",
       "      <td>6</td>\n",
       "      <td>35.697403</td>\n",
       "    </tr>\n",
       "    <tr>\n",
       "      <th>7</th>\n",
       "      <td>7</td>\n",
       "      <td>34.958232</td>\n",
       "    </tr>\n",
       "    <tr>\n",
       "      <th>8</th>\n",
       "      <td>1</td>\n",
       "      <td>33.800162</td>\n",
       "    </tr>\n",
       "    <tr>\n",
       "      <th>9</th>\n",
       "      <td>11</td>\n",
       "      <td>33.685943</td>\n",
       "    </tr>\n",
       "    <tr>\n",
       "      <th>10</th>\n",
       "      <td>2</td>\n",
       "      <td>32.486139</td>\n",
       "    </tr>\n",
       "    <tr>\n",
       "      <th>11</th>\n",
       "      <td>5</td>\n",
       "      <td>30.693454</td>\n",
       "    </tr>\n",
       "    <tr>\n",
       "      <th>12</th>\n",
       "      <td>9</td>\n",
       "      <td>25.937288</td>\n",
       "    </tr>\n",
       "    <tr>\n",
       "      <th>13</th>\n",
       "      <td>13</td>\n",
       "      <td>21.364078</td>\n",
       "    </tr>\n",
       "  </tbody>\n",
       "</table>\n",
       "</div>"
      ],
      "text/plain": [
       "    Group  Co-occurence average\n",
       "0      14             49.794068\n",
       "1       4             49.134879\n",
       "2      10             38.750501\n",
       "3       3             38.502860\n",
       "4      12             37.146590\n",
       "5       8             36.944779\n",
       "6       6             35.697403\n",
       "7       7             34.958232\n",
       "8       1             33.800162\n",
       "9      11             33.685943\n",
       "10      2             32.486139\n",
       "11      5             30.693454\n",
       "12      9             25.937288\n",
       "13     13             21.364078"
      ]
     },
     "execution_count": 498,
     "metadata": {},
     "output_type": "execute_result"
    }
   ],
   "source": [
    "query = \"\"\"\n",
    "        MATCH (k:Keyword)-[r:RELATED_TO]->(k2:Keyword)\n",
    "        WHERE k.group = k2.group\n",
    "        RETURN k.group AS Group, AVG(r.value) AS `Co-occurence average`\n",
    "        ORDER BY `Co-occurence average` DESC;\n",
    "        \"\"\"\n",
    "\n",
    "result = graph.run(query).to_data_frame()\n",
    "print(\"The Co-occurence doesn't seem to be independant from the group of the keywords.\")\n",
    "result"
   ]
  },
  {
   "cell_type": "markdown",
   "metadata": {},
   "source": [
    "#### 5 : Sandbox exercise: To which keywords is 'python' the most related ?"
   ]
  },
  {
   "cell_type": "code",
   "execution_count": 499,
   "metadata": {},
   "outputs": [
    {
     "data": {
      "text/html": [
       "<div>\n",
       "<style scoped>\n",
       "    .dataframe tbody tr th:only-of-type {\n",
       "        vertical-align: middle;\n",
       "    }\n",
       "\n",
       "    .dataframe tbody tr th {\n",
       "        vertical-align: top;\n",
       "    }\n",
       "\n",
       "    .dataframe thead th {\n",
       "        text-align: right;\n",
       "    }\n",
       "</style>\n",
       "<table border=\"1\" class=\"dataframe\">\n",
       "  <thead>\n",
       "    <tr style=\"text-align: right;\">\n",
       "      <th></th>\n",
       "      <th>RelatedKeyword</th>\n",
       "      <th>RelationshipValue</th>\n",
       "    </tr>\n",
       "  </thead>\n",
       "  <tbody>\n",
       "    <tr>\n",
       "      <th>0</th>\n",
       "      <td>django</td>\n",
       "      <td>49.905943</td>\n",
       "    </tr>\n",
       "    <tr>\n",
       "      <th>1</th>\n",
       "      <td>machine-learning</td>\n",
       "      <td>30.270774</td>\n",
       "    </tr>\n",
       "    <tr>\n",
       "      <th>2</th>\n",
       "      <td>r</td>\n",
       "      <td>28.535748</td>\n",
       "    </tr>\n",
       "  </tbody>\n",
       "</table>\n",
       "</div>"
      ],
      "text/plain": [
       "     RelatedKeyword  RelationshipValue\n",
       "0            django          49.905943\n",
       "1  machine-learning          30.270774\n",
       "2                 r          28.535748"
      ]
     },
     "execution_count": 499,
     "metadata": {},
     "output_type": "execute_result"
    }
   ],
   "source": [
    "query = \"\"\"\n",
    "        MATCH (k:Keyword {name: 'python'})-[r:RELATED_TO]->(related:Keyword)\n",
    "        RETURN related.name AS RelatedKeyword, r.value AS RelationshipValue\n",
    "        ORDER BY r.value DESC\n",
    "        LIMIT 3;\n",
    "        \"\"\"\n",
    "\n",
    "result = graph.run(query).to_data_frame()\n",
    "result"
   ]
  }
 ],
 "metadata": {
  "kernelspec": {
   "display_name": "Python 3 (ipykernel)",
   "language": "python",
   "name": "python3"
  },
  "language_info": {
   "codemirror_mode": {
    "name": "ipython",
    "version": 3
   },
   "file_extension": ".py",
   "mimetype": "text/x-python",
   "name": "python",
   "nbconvert_exporter": "python",
   "pygments_lexer": "ipython3",
   "version": "3.11.5"
  }
 },
 "nbformat": 4,
 "nbformat_minor": 4
}
